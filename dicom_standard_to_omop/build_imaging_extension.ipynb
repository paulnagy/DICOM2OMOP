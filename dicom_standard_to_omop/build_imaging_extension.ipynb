{
 "cells": [
  {
   "cell_type": "markdown",
   "metadata": {},
   "source": [
    "# Build Medical Imaging Extension\n",
    "\n",
    "### Prerequisites\n",
    "* Download ODBC Driver 18 from web <https://learn.microsoft.com/en-us/sql/connect/odbc/linux-mac/install-microsoft-odbc-driver-sql-server-macos?view=sql-server-ver16>\n",
    "* OMOP CDM instance with the connection string and authentication information.\n",
    "* Install SQL processing package, i.e., pyodbc."
   ]
  },
  {
   "cell_type": "markdown",
   "metadata": {},
   "source": [
    "## Tables to create\n",
    "1. Image_occurrence\n",
    "2. Image_feature"
   ]
  },
  {
   "cell_type": "code",
   "execution_count": 2,
   "metadata": {},
   "outputs": [],
   "source": [
    "import psycopg2\n",
    "conn = psycopg2.connect(\n",
    "    database=\"postgres\",\n",
    "    user=\"\",\n",
    "    password=\"\",\n",
    "    host=\"\",\n",
    "    port=\"5432\",\n",
    "    connect_timeout = 6000\n",
    ")\n",
    "cursor = conn.cursor()"
   ]
  },
  {
   "cell_type": "code",
   "execution_count": 3,
   "metadata": {},
   "outputs": [],
   "source": [
    "# Create Image_occurrence table\n",
    "\n",
    "# postgre sql does not have varchar(max) so we will use varchar(10000)\n",
    "\n",
    "ddl_statement = \"\"\"\n",
    "CREATE TABLE adni.image_occurrence(\n",
    "    image_occurrence_id integer NOT NULL,\n",
    "    person_id integer NOT NULL,\n",
    "    procedure_occurrence_id integer NOT NULL,\n",
    "    visit_occurrence_id integer,\n",
    "    anatomic_site_concept_id integer,\n",
    "    wadors_uri varchar(10000),\n",
    "    local_path varchar(10000),\n",
    "    image_occurrence_date date NOT NULL,\n",
    "    image_study_uid varchar(10000) NOT NULL,\n",
    "    image_series_uid varchar(10000) NOT NULL,\n",
    "    modality_concept_id integer NOT NULL\n",
    ");\n",
    "\"\"\"\n",
    "\n",
    "cursor = conn.cursor()\n",
    "cursor.execute(ddl_statement)\n",
    "conn.commit()"
   ]
  },
  {
   "cell_type": "code",
   "execution_count": 4,
   "metadata": {},
   "outputs": [],
   "source": [
    "# Create Image_feature table\n",
    "\n",
    "# postgre sql does not have varchar(max) so we will use varchar(10000)\n",
    "# also don't have datetime datatype so we will use timestamp\n",
    "\n",
    "ddl_statement = \"\"\"\n",
    "CREATE TABLE adni.image_feature(\n",
    "    image_feature_id integer NOT NULL,\n",
    "    person_id integer NOT NULL,\n",
    "    image_occurrence_id integer NOT NULL,\n",
    "    image_feature_event_field_concept_id integer,\n",
    "    image_feature_event_id integer,\n",
    "    image_feature_concept_id integer NOT NULL,\n",
    "    image_feature_type_concept_id integer NOT NULL,\n",
    "    image_finding_concept_id integer,\n",
    "    image_finding_id integer,\n",
    "    anatomic_site_concept_id integer,\n",
    "    alg_system varchar(10000),\n",
    "    alg_datetime timestamp\n",
    ");\n",
    "\"\"\"\n",
    "\n",
    "cursor.execute(ddl_statement)\n",
    "conn.commit()\n",
    "\n",
    "# Clean up\n",
    "cursor.close()\n",
    "conn.close()"
   ]
  }
 ],
 "metadata": {
  "kernelspec": {
   "display_name": "Python 3",
   "language": "python",
   "name": "python3"
  },
  "language_info": {
   "codemirror_mode": {
    "name": "ipython",
    "version": 3
   },
   "file_extension": ".py",
   "mimetype": "text/x-python",
   "name": "python",
   "nbconvert_exporter": "python",
   "pygments_lexer": "ipython3",
   "version": "3.9.6"
  }
 },
 "nbformat": 4,
 "nbformat_minor": 2
}

{
 "cells": [
  {
   "cell_type": "markdown",
   "metadata": {},
   "source": [
    "# Transform DICOM metadata\n",
    "\n",
    "* Download DICOM metadata you want to transform\n",
    "* Download ODBC Driver 18 from web <https://learn.microsoft.com/en-us/sql/connect/odbc/linux-mac/install-microsoft-odbc-driver-sql-server-macos?view=sql-server-ver16>\n",
    "* OMOP CDM instance with the connection string and authentication information. If your database access limits IP addresses, make sure to add your IP address before running the connection strings.\n",
    "* OMOP CDM Person table should be updated with demographic information, if available, before running this code. If not, you can upload the Person table using DICOM Patient metadata information.\n",
    "* Install SQL processing package, i.e., pyodbc."
   ]
  },
  {
   "cell_type": "code",
   "execution_count": 3,
   "metadata": {},
   "outputs": [],
   "source": [
    "# Load your DICOM metadata file\n",
    "import pandas as pd\n",
    "\n",
    "flat_metadata_df = pd.read_pickle('./files/ADNI/all_metadata_long.pkl')"
   ]
  },
  {
   "cell_type": "code",
   "execution_count": 4,
   "metadata": {},
   "outputs": [
    {
     "name": "stdout",
     "output_type": "stream",
     "text": [
      "(691224, 5)\n"
     ]
    }
   ],
   "source": [
    "print(flat_metadata_df.shape)"
   ]
  },
  {
   "cell_type": "code",
   "execution_count": 5,
   "metadata": {},
   "outputs": [
    {
     "name": "stdout",
     "output_type": "stream",
     "text": [
      "4756\n"
     ]
    }
   ],
   "source": [
    "print(flat_metadata_df['SeriesUID'].nunique())"
   ]
  },
  {
   "cell_type": "code",
   "execution_count": null,
   "metadata": {},
   "outputs": [
    {
     "name": "stderr",
     "output_type": "stream",
     "text": [
      "/var/folders/wh/p78ddrtn39j879rx8h8fs8fr0000gn/T/ipykernel_9171/3338844226.py:19: UserWarning: pandas only supports SQLAlchemy connectable (engine/connection) or database string URI or sqlite3 DBAPI2 connection. Other DBAPI2 objects are not tested. Please consider using SQLAlchemy.\n",
      "  concept_df = pd.read_sql_query(sql, conn)\n",
      "/var/folders/wh/p78ddrtn39j879rx8h8fs8fr0000gn/T/ipykernel_9171/3338844226.py:22: UserWarning: pandas only supports SQLAlchemy connectable (engine/connection) or database string URI or sqlite3 DBAPI2 connection. Other DBAPI2 objects are not tested. Please consider using SQLAlchemy.\n",
      "  concept_relationship_df = pd.read_sql_query(sql, conn)\n"
     ]
    }
   ],
   "source": [
    "# Import concept table from the SQL database\n",
    "# *** run this after uploading DICOM custom concepts ***\n",
    "\n",
    "import psycopg2\n",
    "\n",
    "# conncet to your database \n",
    "conn = psycopg2.connect(\n",
    "    database=\"\",\n",
    "    user=\"\",\n",
    "    password=\"\",\n",
    "    host=\"\",\n",
    "    port=\"\",\n",
    "    connect_timeout = 6000\n",
    ")\n",
    " \n",
    "cursor = conn.cursor()\n",
    "\n",
    "sql = \"select * from dbo.concept\"\n",
    "concept_df = pd.read_sql_query(sql, conn)\n",
    "\n",
    "sql = \"select * from dbo.concept_relationship\"\n",
    "concept_relationship_df = pd.read_sql_query(sql, conn)\n",
    "\n",
    "# close the cursor and connection\n",
    "cursor.close()\n",
    "conn.close()"
   ]
  },
  {
   "cell_type": "code",
   "execution_count": 36,
   "metadata": {},
   "outputs": [
    {
     "name": "stdout",
     "output_type": "stream",
     "text": [
      "(691224, 8)\n"
     ]
    }
   ],
   "source": [
    "# Get OMOP concepts for DICOM attributes\n",
    "metadata_omop = flat_metadata_df.merge(concept_df[concept_df['vocabulary_id']==\"DICOM\"][['concept_id', 'concept_code', 'concept_name']], how = 'left', left_on = 'Tag', right_on = 'concept_code')\n",
    "print(metadata_omop.shape)"
   ]
  },
  {
   "cell_type": "code",
   "execution_count": 8,
   "metadata": {},
   "outputs": [],
   "source": [
    "# update concept_id data type to int\n",
    "metadata_omop['concept_id'] = metadata_omop['concept_id'].astype('Int64')"
   ]
  },
  {
   "cell_type": "code",
   "execution_count": 9,
   "metadata": {},
   "outputs": [
    {
     "data": {
      "text/plain": [
       "(434063, 8)"
      ]
     },
     "execution_count": 9,
     "metadata": {},
     "output_type": "execute_result"
    }
   ],
   "source": [
    "# inspect number of DICOM metadata elements that will be added to OMOP CDM\n",
    "metadata_omop[~metadata_omop['concept_id'].isna()].shape #434,063 ~62%"
   ]
  },
  {
   "cell_type": "code",
   "execution_count": 15,
   "metadata": {},
   "outputs": [
    {
     "data": {
      "text/plain": [
       "array(['LO', 'CS', 'DS', 'SL', 'IS', 'FD', 'US', 'SH', 'UI', 'SS', 'FL',\n",
       "       'DT', 'UL', 'SQ'], dtype=object)"
      ]
     },
     "execution_count": 15,
     "metadata": {},
     "output_type": "execute_result"
    }
   ],
   "source": [
    "metadata_omop[metadata_omop['concept_id'].isna()]['vr'].unique()"
   ]
  },
  {
   "cell_type": "code",
   "execution_count": null,
   "metadata": {},
   "outputs": [
    {
     "name": "stdout",
     "output_type": "stream",
     "text": [
      "518\n",
      "257161\n"
     ]
    },
    {
     "data": {
      "text/plain": [
       "array(['00190010', '00191008', '0019100B', '00191012', '00191013',\n",
       "       '00191014', '00191015', '00191017', '00191018', '00291008',\n",
       "       '00291018', '00511008', '00511016', '00191016', '0019100A',\n",
       "       '00191029', '00191028', '00090010', '00091002', '00091004',\n",
       "       '00091027', '000910E3', '000910E9', '0019100F', '00191011',\n",
       "       '00191019', '0019101A', '0019101B', '0019101E', '0019105A'],\n",
       "      dtype=object)"
      ]
     },
     "execution_count": 10,
     "metadata": {},
     "output_type": "execute_result"
    }
   ],
   "source": [
    "# Tags with no OMOP concepts - private tags\n",
    "print(metadata_omop[metadata_omop['concept_id'].isna()]['Tag'].nunique())\n",
    "print(metadata_omop[metadata_omop['concept_id'].isna()].shape[0])\n",
    "metadata_omop[metadata_omop['concept_id'].isna()]['Tag'].unique()[:30]"
   ]
  },
  {
   "cell_type": "code",
   "execution_count": 11,
   "metadata": {},
   "outputs": [
    {
     "data": {
      "text/plain": [
       "(26618, 8)"
      ]
     },
     "execution_count": 11,
     "metadata": {},
     "output_type": "execute_result"
    }
   ],
   "source": [
    "# inspect any null values\n",
    "metadata_omop[(~metadata_omop['concept_id'].isna()) & (metadata_omop['Value'].isna())].shape "
   ]
  },
  {
   "cell_type": "code",
   "execution_count": 12,
   "metadata": {},
   "outputs": [
    {
     "data": {
      "text/plain": [
       "array(['Image Type', 'Scanning Sequence', 'Sequence Variant',\n",
       "       'Acquisition Matrix', nan, 'Image Position (Patient)',\n",
       "       'Image Orientation (Patient)', 'Pixel Spacing',\n",
       "       'Red Palette Color Lookup Table Descriptor',\n",
       "       'Green Palette Color Lookup Table Descriptor',\n",
       "       'Blue Palette Color Lookup Table Descriptor', 'Scan Options',\n",
       "       'Diffusion Gradient Orientation', 'Chemical Shift Reference',\n",
       "       'Velocity Encoding Direction', 'Window Center', 'Window Width'],\n",
       "      dtype=object)"
      ]
     },
     "execution_count": 12,
     "metadata": {},
     "output_type": "execute_result"
    }
   ],
   "source": [
    "# inspect multi values\n",
    "metadata_omop[(metadata_omop['Value'].str.contains(\",\", na=False)) & \n",
    "              (metadata_omop['vr'].isin(['AT', 'CS', 'DA', 'DT', 'DS', 'FL', 'FD', 'IS', 'SL', 'SS', 'SV', 'TM', 'UL', 'US', 'UV']))\n",
    "              ]['concept_name'].unique()"
   ]
  },
  {
   "cell_type": "code",
   "execution_count": 13,
   "metadata": {},
   "outputs": [
    {
     "data": {
      "text/plain": [
       "array(['00080008', '00200032', '00200037', '00189089', '00180022'],\n",
       "      dtype=object)"
      ]
     },
     "execution_count": 13,
     "metadata": {},
     "output_type": "execute_result"
    }
   ],
   "source": [
    "# create a list of Tags to exclude\n",
    "exclude = metadata_omop[(~metadata_omop['concept_id'].isna()) & \n",
    "              (metadata_omop['vr'].isin(['AT', 'CS', 'DA', 'DT', 'DS', 'FL', 'FD', 'IS', 'SL', 'SS', 'SV', 'TM', 'UL', 'US', 'UV'])) & \n",
    "              (metadata_omop['Value'].str.len()>50) & \n",
    "              (metadata_omop['Value']!= \"{}\")]['Tag'].unique()\n",
    "\n",
    "exclude"
   ]
  },
  {
   "cell_type": "code",
   "execution_count": 14,
   "metadata": {},
   "outputs": [
    {
     "data": {
      "text/plain": [
       "(283948, 8)"
      ]
     },
     "execution_count": 14,
     "metadata": {},
     "output_type": "execute_result"
    }
   ],
   "source": [
    "selected_metadata = metadata_omop[(~metadata_omop['concept_id'].isna()) & #private tags 434,063\n",
    "                                  (~metadata_omop['Value'].isna()) & #null values 26,618\n",
    "                                  (~metadata_omop['Tag'].isin(exclude)) & #tags with long characters 17,066\n",
    "                                  ((metadata_omop['vr'].isin(['AT', 'CS', 'DA', 'DT', 'DS', 'FL', 'FD', 'IS', 'SL', 'SS', 'SV', 'TM', 'UL', 'US', 'UV'])) |\n",
    "                                   (metadata_omop['Tag'].isin([\"00080070\"])))] #list of included tags & manufacturer needed in the analysis\n",
    "selected_metadata.shape #283,948 ~41%"
   ]
  },
  {
   "cell_type": "code",
   "execution_count": 17,
   "metadata": {},
   "outputs": [
    {
     "data": {
      "text/plain": [
       "4756"
      ]
     },
     "execution_count": 17,
     "metadata": {},
     "output_type": "execute_result"
    }
   ],
   "source": [
    "selected_metadata['SeriesUID'].nunique()"
   ]
  },
  {
   "cell_type": "code",
   "execution_count": 18,
   "metadata": {},
   "outputs": [
    {
     "data": {
      "text/plain": [
       "159"
      ]
     },
     "execution_count": 18,
     "metadata": {},
     "output_type": "execute_result"
    }
   ],
   "source": [
    "selected_metadata['concept_name'].nunique()"
   ]
  },
  {
   "cell_type": "code",
   "execution_count": 19,
   "metadata": {},
   "outputs": [],
   "source": [
    "test = selected_metadata.groupby(['SeriesUID'])['concept_id'].count().reset_index()"
   ]
  },
  {
   "cell_type": "code",
   "execution_count": 20,
   "metadata": {},
   "outputs": [
    {
     "name": "stdout",
     "output_type": "stream",
     "text": [
      "58.0 59.703111858704794\n"
     ]
    }
   ],
   "source": [
    "print(test['concept_id'].median(), test['concept_id'].mean())"
   ]
  },
  {
   "cell_type": "markdown",
   "metadata": {},
   "source": [
    "## Image Occurrence Table Staging"
   ]
  },
  {
   "cell_type": "code",
   "execution_count": 23,
   "metadata": {},
   "outputs": [
    {
     "data": {
      "application/vnd.microsoft.datawrangler.viewer.v0+json": {
       "columns": [
        {
         "name": "Tag",
         "rawType": "object",
         "type": "string"
        },
        {
         "name": "SeriesUID",
         "rawType": "int64",
         "type": "integer"
        }
       ],
       "ref": "21ca0bb0-cbf6-44e4-a086-d83b1dd80abf",
       "rows": [
        [
         "00080020",
         "4756"
        ],
        [
         "00080060",
         "4756"
        ],
        [
         "00100020",
         "4756"
        ],
        [
         "00180015",
         "3987"
        ]
       ],
       "shape": {
        "columns": 1,
        "rows": 4
       }
      },
      "text/plain": [
       "Tag\n",
       "00080020    4756\n",
       "00080060    4756\n",
       "00100020    4756\n",
       "00180015    3987\n",
       "Name: SeriesUID, dtype: int64"
      ]
     },
     "execution_count": 23,
     "metadata": {},
     "output_type": "execute_result"
    }
   ],
   "source": [
    "# inspect tags needed for imaging extension tables\n",
    "tags_for_columns = [\"00080020\", \"00100020\", \"00080060\", \"00180015\"]\n",
    "metadata_omop[metadata_omop['Tag'].isin(tags_for_columns)].groupby('Tag')['SeriesUID'].nunique()"
   ]
  },
  {
   "cell_type": "code",
   "execution_count": 15,
   "metadata": {},
   "outputs": [
    {
     "data": {
      "text/plain": [
       "Value\n",
       "BRAIN        3484\n",
       "HEAD          403\n",
       "HEAD_NECK     100\n",
       "Name: SeriesUID, dtype: int64"
      ]
     },
     "execution_count": 15,
     "metadata": {},
     "output_type": "execute_result"
    }
   ],
   "source": [
    "# boby part examined: 769 series missing this value\n",
    "metadata_omop[metadata_omop['Tag']==\"00180015\"].groupby('Value')['SeriesUID'].count()"
   ]
  },
  {
   "cell_type": "code",
   "execution_count": 21,
   "metadata": {},
   "outputs": [
    {
     "data": {
      "application/vnd.microsoft.datawrangler.viewer.v0+json": {
       "columns": [
        {
         "name": "index",
         "rawType": "int64",
         "type": "integer"
        },
        {
         "name": "Value",
         "rawType": "object",
         "type": "string"
        }
       ],
       "ref": "a885edec-0451-463d-bfe3-f5a590dae5ee",
       "rows": [
        [
         "5",
         "20171204"
        ],
        [
         "104",
         "20171204"
        ],
        [
         "203",
         "20171204"
        ],
        [
         "311",
         "20171204"
        ],
        [
         "411",
         "20171204"
        ]
       ],
       "shape": {
        "columns": 1,
        "rows": 5
       }
      },
      "text/plain": [
       "5      20171204\n",
       "104    20171204\n",
       "203    20171204\n",
       "311    20171204\n",
       "411    20171204\n",
       "Name: Value, dtype: object"
      ]
     },
     "execution_count": 21,
     "metadata": {},
     "output_type": "execute_result"
    }
   ],
   "source": [
    "# study date\n",
    "metadata_omop[metadata_omop['Tag']==\"00080020\"]['Value'].head()"
   ]
  },
  {
   "cell_type": "code",
   "execution_count": 10,
   "metadata": {},
   "outputs": [
    {
     "data": {
      "text/plain": [
       "Value\n",
       "MR    4756\n",
       "Name: SeriesUID, dtype: int64"
      ]
     },
     "execution_count": 10,
     "metadata": {},
     "output_type": "execute_result"
    }
   ],
   "source": [
    "# modality\n",
    "metadata_omop[metadata_omop['Tag']==\"00080060\"].groupby('Value')['SeriesUID'].count()"
   ]
  },
  {
   "cell_type": "code",
   "execution_count": 24,
   "metadata": {},
   "outputs": [
    {
     "name": "stdout",
     "output_type": "stream",
     "text": [
      "(4756, 6)\n"
     ]
    }
   ],
   "source": [
    "df_subset = metadata_omop[metadata_omop['Tag'].isin(tags_for_columns)][['StudyUID', 'SeriesUID', 'Tag', 'Value']]\n",
    "df_subset = df_subset.pivot(index=['StudyUID', 'SeriesUID'], columns='Tag', values='Value').reset_index()\n",
    "df_subset.columns.name = None\n",
    "print(df_subset.shape)"
   ]
  },
  {
   "cell_type": "code",
   "execution_count": 26,
   "metadata": {},
   "outputs": [
    {
     "name": "stdout",
     "output_type": "stream",
     "text": [
      "(4152, 3)\n"
     ]
    }
   ],
   "source": [
    "# Load person_id from registry id map table (created using ADNI demographic file)\n",
    "df_id = pd.read_csv('./files/OMOP CDM Staging/registry_idmap.csv')\n",
    "print(df_id.shape)"
   ]
  },
  {
   "cell_type": "code",
   "execution_count": 27,
   "metadata": {},
   "outputs": [],
   "source": [
    "df_subset = df_subset.merge(df_id[['source_id', 'person_id']], how = 'left', left_on = '00100020', right_on = 'source_id')"
   ]
  },
  {
   "cell_type": "code",
   "execution_count": 125,
   "metadata": {},
   "outputs": [
    {
     "data": {
      "text/plain": [
       "289"
      ]
     },
     "execution_count": 125,
     "metadata": {},
     "output_type": "execute_result"
    }
   ],
   "source": [
    "df_subset.source_id.nunique()"
   ]
  },
  {
   "cell_type": "code",
   "execution_count": 28,
   "metadata": {},
   "outputs": [
    {
     "name": "stdout",
     "output_type": "stream",
     "text": [
      "(4756, 14)\n"
     ]
    }
   ],
   "source": [
    "# use Athena to get standard concept ids\n",
    "df_subset['anatomic_site_concept_id'] = 4119359 # since the values are too varied and some are empty, we will use the most popular entry, BRAIN\n",
    "df_subset['modality_concept_id'] = 4013636 # MR\n",
    "df_subset['image_occurrence_date'] = pd.to_datetime(df_subset['00080020'])\n",
    "df_subset['wadors_uri'] = 'https://imgextpoc-adnidicom.dicom.azurehealthcareapis.com/v2/studies/' + df_subset['StudyUID'] + '/series/' + df_subset['SeriesUID']\n",
    "df_subset['visit_type_concept_id'] = 32817 #EHR\n",
    "df_subset['visit_concept_id'] = 9202 #outpatient visit\n",
    "print(df_subset.shape)"
   ]
  },
  {
   "cell_type": "code",
   "execution_count": 21,
   "metadata": {},
   "outputs": [],
   "source": [
    "# set IDs\n",
    "df_subset['image_occurrence_id'] = pd.Series(range(1, 1 + len(df_subset)))\n",
    "df_subset['procedure_occurrence_id'] = pd.Series(range(1, 1 + len(df_subset)))\n",
    "df_subset['visit_occurrence_id'] = pd.Series(range(1, 1 + len(df_subset)))"
   ]
  },
  {
   "cell_type": "code",
   "execution_count": 22,
   "metadata": {},
   "outputs": [],
   "source": [
    "df_subset.to_pickle('./files/OMOP CDM Staging/image_occurrence_staging_v3.pkl')"
   ]
  },
  {
   "cell_type": "markdown",
   "metadata": {},
   "source": [
    "## Prepare other tags"
   ]
  },
  {
   "cell_type": "code",
   "execution_count": 23,
   "metadata": {},
   "outputs": [
    {
     "data": {
      "text/plain": [
       "concept_name                  vr\n",
       "Series Instance UID           UI    4756\n",
       "Study Time                    TM    4756\n",
       "Study Date                    DA    4756\n",
       "Position Reference Indicator  LO    4756\n",
       "Device Serial Number          LO    4756\n",
       "Pixel Representation          US    4756\n",
       "Software Versions             LO    4756\n",
       "Series Time                   TM    4756\n",
       "Series Number                 IS    4756\n",
       "Patient Position              CS    4756\n",
       "Series Description            LO    4756\n",
       "Photometric Interpretation    CS    4756\n",
       "High Bit                      US    4756\n",
       "Referring Physician's Name    PN    4756\n",
       "Image Type                    CS    4756\n",
       "Instance Number               IS    4756\n",
       "Series Date                   DA    4756\n",
       "MR Acquisition Type           CS    4756\n",
       "Magnetic Field Strength       DS    4756\n",
       "Manufacturer                  LO    4756\n",
       "Name: count, dtype: int64"
      ]
     },
     "execution_count": 23,
     "metadata": {},
     "output_type": "execute_result"
    }
   ],
   "source": [
    "# inspect the most popular tags that will be added to the OMOP CDM\n",
    "metadata_omop_tag_counts = metadata_omop[~metadata_omop['concept_id'].isna()][['concept_name', 'vr']].value_counts()\n",
    "metadata_omop_tag_counts[:20]"
   ]
  },
  {
   "cell_type": "code",
   "execution_count": 24,
   "metadata": {},
   "outputs": [
    {
     "data": {
      "image/png": "[encoded data removed]",
      "text/plain": [
       "<Figure size 800x500 with 1 Axes>"
      ]
     },
     "metadata": {},
     "output_type": "display_data"
    }
   ],
   "source": [
    "# Create a histogram of number of metadata elements per series\n",
    "import matplotlib.pyplot as plt\n",
    "\n",
    "# Get the number of concept_ids per SeriesUID\n",
    "concepts_per_series = selected_metadata['SeriesUID'].value_counts()\n",
    "\n",
    "# Plotting the histogram\n",
    "plt.figure(figsize=(8, 5))\n",
    "plt.hist(concepts_per_series, bins=20, edgecolor='black', color='grey')\n",
    "plt.xlabel('# of concept_ids', fontsize=18)\n",
    "plt.ylabel('# of Imaging Series', fontsize=18)\n",
    "plt.tight_layout()\n",
    "\n",
    "plt.xticks(fontsize=14)\n",
    "plt.yticks(fontsize=14)\n",
    "\n",
    "# Show the plot\n",
    "plt.show()"
   ]
  },
  {
   "cell_type": "code",
   "execution_count": 135,
   "metadata": {},
   "outputs": [
    {
     "data": {
      "text/plain": [
       "(58552, 8)"
      ]
     },
     "execution_count": 135,
     "metadata": {},
     "output_type": "execute_result"
    }
   ],
   "source": [
    "selected_metadata[selected_metadata['vr']=='CS'].shape"
   ]
  },
  {
   "cell_type": "code",
   "execution_count": 29,
   "metadata": {},
   "outputs": [],
   "source": [
    "att_to_value = concept_relationship_df[concept_relationship_df['relationship_id']==\"Maps to value\"][['concept_id_1', 'concept_id_2']].merge(\n",
    "    concept_df[['concept_id', 'concept_code', 'concept_name']], left_on = 'concept_id_2', right_on = 'concept_id')"
   ]
  },
  {
   "cell_type": "code",
   "execution_count": 30,
   "metadata": {},
   "outputs": [],
   "source": [
    "new_image_features_cs = selected_metadata[selected_metadata['vr']=='CS'].merge(att_to_value, how = 'inner', left_on = ['concept_id', 'Value'], right_on = ['concept_id_1', 'concept_code'])"
   ]
  },
  {
   "cell_type": "code",
   "execution_count": 31,
   "metadata": {},
   "outputs": [
    {
     "name": "stdout",
     "output_type": "stream",
     "text": [
      "(8643, 13)\n"
     ]
    },
    {
     "data": {
      "application/vnd.microsoft.datawrangler.viewer.v0+json": {
       "columns": [
        {
         "name": "index",
         "rawType": "int64",
         "type": "integer"
        },
        {
         "name": "Tag",
         "rawType": "object",
         "type": "string"
        },
        {
         "name": "concept_name_x",
         "rawType": "object",
         "type": "string"
        },
        {
         "name": "Value",
         "rawType": "object",
         "type": "string"
        }
       ],
       "ref": "e959f63d-9705-432b-aae4-3b3cc1b70873",
       "rows": [
        [
         "0",
         "00180015",
         "Body Part Examined",
         "BRAIN"
        ],
        [
         "1",
         "00185100",
         "Patient Position",
         "HFS"
        ],
        [
         "767",
         "00180015",
         "Body Part Examined",
         "HEAD"
        ]
       ],
       "shape": {
        "columns": 3,
        "rows": 3
       }
      },
      "text/html": [
       "<div>\n",
       "<style scoped>\n",
       "    .dataframe tbody tr th:only-of-type {\n",
       "        vertical-align: middle;\n",
       "    }\n",
       "\n",
       "    .dataframe tbody tr th {\n",
       "        vertical-align: top;\n",
       "    }\n",
       "\n",
       "    .dataframe thead th {\n",
       "        text-align: right;\n",
       "    }\n",
       "</style>\n",
       "<table border=\"1\" class=\"dataframe\">\n",
       "  <thead>\n",
       "    <tr style=\"text-align: right;\">\n",
       "      <th></th>\n",
       "      <th>Tag</th>\n",
       "      <th>concept_name_x</th>\n",
       "      <th>Value</th>\n",
       "    </tr>\n",
       "  </thead>\n",
       "  <tbody>\n",
       "    <tr>\n",
       "      <th>0</th>\n",
       "      <td>00180015</td>\n",
       "      <td>Body Part Examined</td>\n",
       "      <td>BRAIN</td>\n",
       "    </tr>\n",
       "    <tr>\n",
       "      <th>1</th>\n",
       "      <td>00185100</td>\n",
       "      <td>Patient Position</td>\n",
       "      <td>HFS</td>\n",
       "    </tr>\n",
       "    <tr>\n",
       "      <th>767</th>\n",
       "      <td>00180015</td>\n",
       "      <td>Body Part Examined</td>\n",
       "      <td>HEAD</td>\n",
       "    </tr>\n",
       "  </tbody>\n",
       "</table>\n",
       "</div>"
      ],
      "text/plain": [
       "          Tag      concept_name_x  Value\n",
       "0    00180015  Body Part Examined  BRAIN\n",
       "1    00185100    Patient Position    HFS\n",
       "767  00180015  Body Part Examined   HEAD"
      ]
     },
     "execution_count": 31,
     "metadata": {},
     "output_type": "execute_result"
    }
   ],
   "source": [
    "print(new_image_features_cs.shape)\n",
    "new_image_features_cs[['Tag','concept_name_x', 'Value']].drop_duplicates()"
   ]
  },
  {
   "cell_type": "code",
   "execution_count": 32,
   "metadata": {},
   "outputs": [
    {
     "name": "stdout",
     "output_type": "stream",
     "text": [
      "(117, 3)\n"
     ]
    },
    {
     "data": {
      "application/vnd.microsoft.datawrangler.viewer.v0+json": {
       "columns": [
        {
         "name": "index",
         "rawType": "int64",
         "type": "integer"
        },
        {
         "name": "Tag",
         "rawType": "object",
         "type": "string"
        },
        {
         "name": "concept_name",
         "rawType": "object",
         "type": "string"
        },
        {
         "name": "Value",
         "rawType": "object",
         "type": "string"
        }
       ],
       "ref": "22a663d4-ebbd-40e6-ae49-151435b4a63d",
       "rows": [
        [
         "0",
         "00080005",
         "Specific Character Set",
         "ISO_IR 100"
        ],
        [
         "1",
         "00080060",
         "Modality",
         "MR"
        ],
        [
         "2",
         "00100040",
         "Patient's Sex",
         "F"
        ],
        [
         "3",
         "00180020",
         "Scanning Sequence",
         "GR, IR"
        ],
        [
         "4",
         "00180021",
         "Sequence Variant",
         "SK, SP, MP"
        ]
       ],
       "shape": {
        "columns": 3,
        "rows": 5
       }
      },
      "text/html": [
       "<div>\n",
       "<style scoped>\n",
       "    .dataframe tbody tr th:only-of-type {\n",
       "        vertical-align: middle;\n",
       "    }\n",
       "\n",
       "    .dataframe tbody tr th {\n",
       "        vertical-align: top;\n",
       "    }\n",
       "\n",
       "    .dataframe thead th {\n",
       "        text-align: right;\n",
       "    }\n",
       "</style>\n",
       "<table border=\"1\" class=\"dataframe\">\n",
       "  <thead>\n",
       "    <tr style=\"text-align: right;\">\n",
       "      <th></th>\n",
       "      <th>Tag</th>\n",
       "      <th>concept_name</th>\n",
       "      <th>Value</th>\n",
       "    </tr>\n",
       "  </thead>\n",
       "  <tbody>\n",
       "    <tr>\n",
       "      <th>0</th>\n",
       "      <td>00080005</td>\n",
       "      <td>Specific Character Set</td>\n",
       "      <td>ISO_IR 100</td>\n",
       "    </tr>\n",
       "    <tr>\n",
       "      <th>1</th>\n",
       "      <td>00080060</td>\n",
       "      <td>Modality</td>\n",
       "      <td>MR</td>\n",
       "    </tr>\n",
       "    <tr>\n",
       "      <th>2</th>\n",
       "      <td>00100040</td>\n",
       "      <td>Patient's Sex</td>\n",
       "      <td>F</td>\n",
       "    </tr>\n",
       "    <tr>\n",
       "      <th>3</th>\n",
       "      <td>00180020</td>\n",
       "      <td>Scanning Sequence</td>\n",
       "      <td>GR, IR</td>\n",
       "    </tr>\n",
       "    <tr>\n",
       "      <th>4</th>\n",
       "      <td>00180021</td>\n",
       "      <td>Sequence Variant</td>\n",
       "      <td>SK, SP, MP</td>\n",
       "    </tr>\n",
       "  </tbody>\n",
       "</table>\n",
       "</div>"
      ],
      "text/plain": [
       "        Tag            concept_name       Value\n",
       "0  00080005  Specific Character Set  ISO_IR 100\n",
       "1  00080060                Modality          MR\n",
       "2  00100040           Patient's Sex           F\n",
       "3  00180020       Scanning Sequence      GR, IR\n",
       "4  00180021        Sequence Variant  SK, SP, MP"
      ]
     },
     "execution_count": 32,
     "metadata": {},
     "output_type": "execute_result"
    }
   ],
   "source": [
    "# inspect values with unmatched OMOP concepts\n",
    "omop_value_not_found_cs = selected_metadata[(selected_metadata['vr']=='CS') & \n",
    "                                            (~selected_metadata['Value'].isin(['BRAIN', 'HFS', 'HEAD']))\n",
    "                                            ][['Tag', 'concept_name', 'Value']].drop_duplicates().reset_index(drop=True)\n",
    "print(omop_value_not_found_cs.shape)\n",
    "omop_value_not_found_cs.head()"
   ]
  },
  {
   "cell_type": "code",
   "execution_count": 33,
   "metadata": {},
   "outputs": [
    {
     "name": "stdout",
     "output_type": "stream",
     "text": [
      "(275305, 8)\n"
     ]
    }
   ],
   "source": [
    "# non-CS values\n",
    "new_image_features_non_cs = selected_metadata[~selected_metadata['Value'].isin(['BRAIN', 'HFS', 'HEAD'])]\n",
    "new_image_features_non_cs = new_image_features_non_cs.rename(columns={'concept_id': 'concept_id_x',\n",
    "                                                                      'concept_name': 'concept_name_x',\n",
    "                                                                      'concept_code': 'concept_code_x'})\n",
    "print(new_image_features_non_cs.shape)"
   ]
  },
  {
   "cell_type": "code",
   "execution_count": 34,
   "metadata": {},
   "outputs": [
    {
     "name": "stdout",
     "output_type": "stream",
     "text": [
      "(283948, 13)\n"
     ]
    }
   ],
   "source": [
    "new_image_features = pd.concat([new_image_features_cs, new_image_features_non_cs])\n",
    "new_image_features['concept_id_y'] = new_image_features['concept_id_y'].astype('Int64')\n",
    "print(new_image_features.shape) #283948"
   ]
  },
  {
   "cell_type": "code",
   "execution_count": null,
   "metadata": {},
   "outputs": [],
   "source": [
    "new_image_features = new_image_features.merge(\n",
    "    df_subset[['image_occurrence_id', 'person_id', 'SeriesUID', 'image_occurrence_date', 'anatomic_site_concept_id']], \n",
    "    how = 'left', on = 'SeriesUID')"
   ]
  },
  {
   "cell_type": "code",
   "execution_count": null,
   "metadata": {},
   "outputs": [],
   "source": [
    "new_image_features['image_feature_event_field_id'] = 1147330\n",
    "new_image_features['image_feature_event_type_id'] = 32817\n",
    "new_image_features['image_feature_event_id'] = range(1, len(new_image_features)+1)\n",
    "new_image_features.head()"
   ]
  },
  {
   "cell_type": "code",
   "execution_count": 49,
   "metadata": {},
   "outputs": [
    {
     "data": {
      "text/plain": [
       "array(['CS', 'TM', 'DA', 'LO', 'DS', 'IS', 'US', 'UL', 'SS', 'FL', 'FD'],\n",
       "      dtype=object)"
      ]
     },
     "execution_count": 49,
     "metadata": {},
     "output_type": "execute_result"
    }
   ],
   "source": [
    "new_image_features.vr.unique()"
   ]
  },
  {
   "cell_type": "code",
   "execution_count": 50,
   "metadata": {},
   "outputs": [],
   "source": [
    "new_image_features['value_as_number'] = new_image_features.apply(lambda row: row['Value'] if (row['vr'] != 'CS') | (row['vr'] != 'LO') else None, axis=1)\n",
    "new_image_features['measurement_source_value'] = new_image_features['Value'].astype(str).str[:50]\n",
    "new_image_features = new_image_features.where(pd.notnull(new_image_features), None)"
   ]
  },
  {
   "cell_type": "code",
   "execution_count": 51,
   "metadata": {},
   "outputs": [
    {
     "data": {
      "text/plain": [
       "Index(['StudyUID', 'SeriesUID', 'Tag', 'vr', 'Value', 'concept_id_x',\n",
       "       'concept_code_x', 'concept_name_x', 'concept_id_1', 'concept_id_2',\n",
       "       'concept_id_y', 'concept_code_y', 'concept_name_y',\n",
       "       'image_occurrence_id', 'person_id', 'image_occurrence_date',\n",
       "       'anatomic_site_concept_id', 'image_feature_event_field_id',\n",
       "       'image_feature_event_type_id', 'image_feature_event_id',\n",
       "       'value_as_number', 'measurement_source_value'],\n",
       "      dtype='object')"
      ]
     },
     "execution_count": 51,
     "metadata": {},
     "output_type": "execute_result"
    }
   ],
   "source": [
    "new_image_features.columns"
   ]
  },
  {
   "cell_type": "code",
   "execution_count": 52,
   "metadata": {},
   "outputs": [],
   "source": [
    "new_image_features['value_as_number'] = pd.to_numeric(new_image_features['Value'], errors='coerce')"
   ]
  },
  {
   "cell_type": "code",
   "execution_count": 53,
   "metadata": {},
   "outputs": [],
   "source": [
    "new_image_features.to_pickle('./files/ADNI/image_series_metadata_v3.pkl')"
   ]
  }
 ],
 "metadata": {
  "kernelspec": {
   "display_name": "Python 3",
   "language": "python",
   "name": "python3"
  },
  "language_info": {
   "codemirror_mode": {
    "name": "ipython",
    "version": 3
   },
   "file_extension": ".py",
   "mimetype": "text/x-python",
   "name": "python",
   "nbconvert_exporter": "python",
   "pygments_lexer": "ipython3",
   "version": "3.9.6"
  }
 },
 "nbformat": 4,
 "nbformat_minor": 2
}

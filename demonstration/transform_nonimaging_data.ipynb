{
 "cells": [
  {
   "cell_type": "markdown",
   "metadata": {},
   "source": [
    "# Transform Non-Image Data into OMOP CDM\n",
    "\n",
    "This part can be skipped if your non-imaging data already exist in OMOP CDM. In this case, you would need to go to the `Part II: Tranform Image Data` notebook.\n",
    "\n",
    "### Prerequisites\n",
    "* Download ODBC Driver 18 from web <https://learn.microsoft.com/en-us/sql/connect/odbc/linux-mac/install-microsoft-odbc-driver-sql-server-macos?view=sql-server-ver16>\n",
    "* OMOP CDM instance with the connection string and authentication information. If your database access limits IP addresses, make sure to add your IP address before running the connection strings.\n",
    "* Install SQL processing package, i.e., pyodbc.\n",
    "* Files or database that non-image data is stored: demographic, clinical assessments, labs, visits, etc."
   ]
  },
  {
   "cell_type": "markdown",
   "metadata": {},
   "source": [
    "### Patient demographic data\n",
    "- Downloaded from ADNI demographic file (Subject Demographics) and saved in my local folder.\n",
    "- This will be transformed and loaded to the Person table"
   ]
  },
  {
   "cell_type": "code",
   "execution_count": 21,
   "metadata": {},
   "outputs": [],
   "source": [
    "import pandas as pd\n",
    "# Load the file\n",
    "patient_demo = pd.read_csv('./files/ADNI/PTDEMOG_28Mar2024.csv')\n",
    "# Subbset required fields from the file\n",
    "patient_demo_staging = patient_demo[['PTID', 'PTGENDER', 'PTDOB', 'PTDOBYY', 'PTRACCAT', 'PTETHCAT']].copy() "
   ]
  },
  {
   "cell_type": "code",
   "execution_count": null,
   "metadata": {},
   "outputs": [],
   "source": [
    "# Standard omop gender concepts includes female/male\n",
    "patient_demo_staging = patient_demo_staging[patient_demo_staging['PTGENDER'].isin([1,2])]\n",
    "\n",
    "# Assign an integer value for each unique PatientID\n",
    "patient_demo_staging['person_id'], _ = pd.factorize(patient_demo_staging['PTID'])\n",
    "patient_demo_staging['person_id'] = patient_demo_staging['person_id'] + 1 \n",
    "\n",
    "# Codify Gender - replace 'F' with 8532 and 'M' with 8507\n",
    "gender_codification = {2: 8532, 1: 8507}\n",
    "patient_demo_staging['gender_concept_id'] = patient_demo_staging['PTGENDER'].replace(gender_codification)\n",
    "\n",
    "# birth year and month\n",
    "patient_demo_staging['year_of_birth'] = patient_demo_staging['PTDOBYY']\n",
    "patient_demo_staging['month_of_birth'] = patient_demo_staging['PTDOB'].str.slice(0,2).astype(int)\n",
    "\n",
    "# race category\n",
    "race_codification = {1:8657, 2:8515, 3: 8557, 4:8516, 5:8527}\n",
    "patient_demo_staging['race_concept_id'] = patient_demo_staging['PTRACCAT'].map(lambda x: race_codification.get(x, 0)).astype(int)\n",
    "\n",
    "# ethnicity\n",
    "ethnicity_codification = {1:38003563, 2:38003564}\n",
    "patient_demo_staging['ethnicity_concept_id'] = patient_demo_staging['PTETHCAT'].map(lambda x: ethnicity_codification.get(x, 0)).astype(int)\n",
    "\n",
    "# drop duplicate if applicable\n",
    "patient_demo_staging = patient_demo_staging.drop_duplicates(subset='PTID', keep = 'first')\n",
    "\n",
    "# source name\n",
    "patient_demo_staging['source'] = 'ADNI'\n",
    "\n",
    "#patient_demo_staging.head()"
   ]
  },
  {
   "cell_type": "code",
   "execution_count": null,
   "metadata": {},
   "outputs": [],
   "source": [
    "import psycopg2\n",
    "\n",
    "conn = psycopg2.connect(\n",
    "    database=\"\",\n",
    "    user=\"\",\n",
    "    password=\"\",\n",
    "    host=\"\",\n",
    "    port=\"\",\n",
    "    connect_timeout = 6000\n",
    ")\n",
    "\n",
    "cursor = conn.cursor()"
   ]
  },
  {
   "cell_type": "code",
   "execution_count": 25,
   "metadata": {},
   "outputs": [],
   "source": [
    "# Update PERSON\n",
    "cursor = conn.cursor()\n",
    "\n",
    "# Update PERSON\n",
    "sql = '''\n",
    "    INSERT INTO adni.person (person_id, gender_concept_id, year_of_birth, month_of_birth, race_concept_id, ethnicity_concept_id, gender_source_value) \n",
    "    VALUES (%s,%s,%s,%s,%s,%s,%s)\n",
    "    '''\n",
    "for index, row in patient_demo_staging.iterrows():\n",
    "    cursor.execute(sql, (row['person_id'], row['gender_concept_id'], row['year_of_birth'], row['month_of_birth'], row['race_concept_id'], row['ethnicity_concept_id'], row['PTGENDER']))\n",
    "\n",
    "conn.commit()"
   ]
  },
  {
   "cell_type": "code",
   "execution_count": 39,
   "metadata": {},
   "outputs": [],
   "source": [
    "# Create the registry_idmap table if it doesn't exist\n",
    "# This will keep track of which OMOP Person_id belongs to ADNI PTID\n",
    "\n",
    "ddl_statement = \"\"\"\n",
    "CREATE TABLE adni.registry_idmap(\n",
    "    source_id varchar(250) NOT NULL,\n",
    "    person_id integer NOT NULL,\n",
    "    source_name varchar(250)\n",
    ");\n",
    "\"\"\"\n",
    "\n",
    "cursor.execute(ddl_statement)\n",
    "conn.commit()\n",
    "\n",
    "sql = '''\n",
    "    INSERT INTO adni.registry_idmap (source_id, person_id, source_name) \n",
    "    VALUES (%s,%s,%s)\n",
    "    '''\n",
    "for index, row in patient_demo_staging.iterrows():\n",
    "    cursor.execute(sql, (row['PTID'], row['person_id'], row['source']))\n",
    "\n",
    "conn.commit()"
   ]
  },
  {
   "cell_type": "markdown",
   "metadata": {},
   "source": [
    "### NPI-Q and NPI Scores"
   ]
  },
  {
   "cell_type": "code",
   "execution_count": 27,
   "metadata": {},
   "outputs": [],
   "source": [
    "import pandas as pd\n",
    "\n",
    "# Load the file\n",
    "npi = pd.read_csv('./files/ADNI/NPI_10Apr2024.csv')\n",
    "# Subbset required fields from the file\n",
    "# This should be selected by the researcher(s)\n",
    "npi_staging = npi[['PTID', 'Phase', 'VISCODE', 'VISCODE2', 'VISDATE', 'EXAMDATE', 'NPIATOT',\n",
    "                                     'NPIBTOT', 'NPICTOT', 'NPIDTOT', 'NPIETOT', 'NPIFTOT', 'NPIGTOT', 'NPIHTOT',\n",
    "                                     'NPIITOT', 'NPIJTOT', 'NPIKTOT', 'NPILTOT', 'NPITOTAL']].copy()"
   ]
  },
  {
   "cell_type": "code",
   "execution_count": null,
   "metadata": {},
   "outputs": [],
   "source": [
    "# transform the table from wide to long\n",
    "# add custom concept for NPI as SNOMED only exists for NPI-Q\n",
    "# add custom concept for each questions\n",
    "# npi_staging.head()"
   ]
  },
  {
   "cell_type": "code",
   "execution_count": null,
   "metadata": {},
   "outputs": [],
   "source": [
    "# Define the columns to keep (not starting with 'NPI')\n",
    "cols_to_keep = [col for col in npi_staging.columns if not col.startswith('NPI')]\n",
    "\n",
    "# Define the columns that need to be transformed\n",
    "npi_columns = [col for col in npi_staging.columns if col.startswith('NPI')]\n",
    "\n",
    "# Melt the DataFrame\n",
    "npi_long = npi_staging.melt(id_vars=cols_to_keep, value_vars=npi_columns,\n",
    "                    var_name='NPI_section', value_name='NPI_value')\n",
    "\n",
    "# Extract the first letter after 'NPI' for the 'NPI_section'\n",
    "npi_long['NPI_section'] = npi_long['NPI_section'].apply(lambda x: x[3])\n",
    "\n",
    "# npi_long.head()"
   ]
  },
  {
   "cell_type": "code",
   "execution_count": 30,
   "metadata": {},
   "outputs": [
    {
     "data": {
      "text/plain": [
       "(90324, 8)"
      ]
     },
     "execution_count": 30,
     "metadata": {},
     "output_type": "execute_result"
    }
   ],
   "source": [
    "npi_long.shape #npi_long.shape"
   ]
  },
  {
   "cell_type": "code",
   "execution_count": 31,
   "metadata": {},
   "outputs": [],
   "source": [
    "npi_long = npi_long.merge(patient_demo_staging[['source_id', 'person_id']], left_on= 'PTID', right_on = 'source_id', how ='left')"
   ]
  },
  {
   "cell_type": "code",
   "execution_count": 20,
   "metadata": {},
   "outputs": [
    {
     "data": {
      "text/plain": [
       "2041571200"
      ]
     },
     "execution_count": 20,
     "metadata": {},
     "output_type": "execute_result"
    }
   ],
   "source": [
    "41571200 + 2000000000 #Assessment scales (parent node of NPI-Q) + custom concept id convention"
   ]
  },
  {
   "cell_type": "code",
   "execution_count": 21,
   "metadata": {},
   "outputs": [],
   "source": [
    "# Update CONCEPT for NPI\n",
    "sql = '''\n",
    "    INSERT INTO dbo.concept (concept_id,concept_name,domain_id,vocabulary_id,concept_class_id,concept_code,valid_start_date,valid_end_date) \n",
    "    VALUES \n",
    "    (2041571200, 'Neuropsychiatric Inventory', 'Measurement', '0', '0', '0', '1994-01-01', '2099-12-31'),\n",
    "    (2041571201, 'Neuropsychiatric Inventory Section A. Delusions: Item score', 'Measurement', '0', '0', '0', '1994-01-01', '2099-12-31'),\n",
    "    (2041571202, 'Neuropsychiatric Inventory Section B. Hallucinations: Item score', 'Measurement', '0', '0', '0', '1994-01-01', '2099-12-31'),\n",
    "    (2041571203, 'Neuropsychiatric Inventory Section C. Agitation/Aggression: Item score', 'Measurement', '0', '0', '0', '1994-01-01', '2099-12-31'),\n",
    "    (2041571204, 'Neuropsychiatric Inventory Section D. Depression/Dysphoria: Item score', 'Measurement', '0', '0', '0', '1994-01-01', '2099-12-31'),\n",
    "    (2041571205, 'Neuropsychiatric Inventory Section E. Anxiety: Item score', 'Measurement', '0', '0', '0', '1994-01-01', '2099-12-31'),\n",
    "    (2041571206, 'Neuropsychiatric Inventory Section F. Elation/Euphoria: Item score', 'Measurement', '0', '0', '0', '1994-01-01', '2099-12-31'),\n",
    "    (2041571207, 'Neuropsychiatric Inventory Section G. Apathy/Indifference: Item score', 'Measurement', '0', '0', '0', '1994-01-01', '2099-12-31'),\n",
    "    (2041571208, 'Neuropsychiatric Inventory Section H. Disinhibition: Item score', 'Measurement', '0', '0', '0', '1994-01-01', '2099-12-31'),\n",
    "    (2041571209, 'Neuropsychiatric Inventory Section I. Irritability/Lability: Item score', 'Measurement', '0', '0', '0', '1994-01-01', '2099-12-31'),\n",
    "    (2041571210, 'Neuropsychiatric Inventory Section J. Aberrant Motor Behavior: Item score', 'Measurement', '0', '0', '0', '1994-01-01', '2099-12-31'),\n",
    "    (2041571211, 'Neuropsychiatric Inventory Section K. Sleep: Item score', 'Measurement', '0', '0', '0', '1994-01-01', '2099-12-31'),\n",
    "    (2041571212, 'Neuropsychiatric Inventory Section L. Appetite and eating disorders: Item score', 'Measurement', '0', '0', '0', '1994-01-01', '2099-12-31'),\n",
    "    (2041571213, 'Neuropsychiatric Inventory Total Score', 'Measurement', '0', '0', '0', '1994-01-01', '2099-12-31')\n",
    "    '''\n",
    "cursor.execute(sql)\n",
    "conn.commit()"
   ]
  },
  {
   "cell_type": "code",
   "execution_count": 22,
   "metadata": {},
   "outputs": [],
   "source": [
    "# Update CONCEPT for NPI-Q\n",
    "sql = '''\n",
    "    INSERT INTO dbo.concept (concept_id,concept_name,domain_id,vocabulary_id,concept_class_id,concept_code,valid_start_date,valid_end_date) \n",
    "    VALUES \n",
    "    (2041571214, 'Neuropsychiatric Inventory Q Delusions', 'Measurement', '0', '0', '0', '1994-01-01', '2099-12-31'),\n",
    "    (2041571215, 'Neuropsychiatric Inventory Q Hallucinations', 'Measurement', '0', '0', '0', '1994-01-01', '2099-12-31'),\n",
    "    (2041571216, 'Neuropsychiatric Inventory Q Agitation/Aggression', 'Measurement', '0', '0', '0', '1994-01-01', '2099-12-31'),\n",
    "    (2041571217, 'Neuropsychiatric Inventory Q Depression/Dysphoria', 'Measurement', '0', '0', '0', '1994-01-01', '2099-12-31'),\n",
    "    (2041571218, 'Neuropsychiatric Inventory Q Anxiety', 'Measurement', '0', '0', '0', '1994-01-01', '2099-12-31'),\n",
    "    (2041571219, 'Neuropsychiatric Inventory Q Elation/Euphoria', 'Measurement', '0', '0', '0', '1994-01-01', '2099-12-31'),\n",
    "    (2041571220, 'Neuropsychiatric Inventory Q Apathy/Indifference', 'Measurement', '0', '0', '0', '1994-01-01', '2099-12-31'),\n",
    "    (2041571221, 'Neuropsychiatric Inventory Q Disinhibition', 'Measurement', '0', '0', '0', '1994-01-01', '2099-12-31'),\n",
    "    (2041571222, 'Neuropsychiatric Inventory Q Irritability/Lability', 'Measurement', '0', '0', '0', '1994-01-01', '2099-12-31'),\n",
    "    (2041571223, 'Neuropsychiatric Inventory Q Aberrant Motor Behavior', 'Measurement', '0', '0', '0', '1994-01-01', '2099-12-31'),\n",
    "    (2041571224, 'Neuropsychiatric Inventory Q Sleep', 'Measurement', '0', '0', '0', '1994-01-01', '2099-12-31'),\n",
    "    (2041571225, 'Neuropsychiatric Inventory Q Appetite and eating disorders', 'Measurement', '0', '0', '0', '1994-01-01', '2099-12-31')\n",
    "    '''\n",
    "cursor.execute(sql)\n",
    "conn.commit()"
   ]
  },
  {
   "cell_type": "code",
   "execution_count": null,
   "metadata": {},
   "outputs": [],
   "source": [
    "# Import measurement table\n",
    "sql_query = \"SELECT max(measurement_id) FROM dbo.measurement\"\n",
    "pd.read_sql_query(sql_query, conn)\n",
    "#560169"
   ]
  },
  {
   "cell_type": "code",
   "execution_count": 32,
   "metadata": {},
   "outputs": [
    {
     "data": {
      "text/plain": [
       "array([ 0.,  1.,  3., nan,  2.,  8.,  4.,  6.,  9., 12., 19., 20., 10.,\n",
       "       14., 17.,  5.,  7., 13., 16., 18., 23., 26., 32., 28., 47., 29.,\n",
       "       11., 22., 24., 15., 37., 25., 27., 34., 21., 31., 33., 46., 43.,\n",
       "       35., 30., 39., 36., 59., 38., 60., 53., 51., 49., 41., 52., 40.,\n",
       "       79., 44., 88., 45., 65., 67., 61., 55., 57., 48., 58., 78., 56.,\n",
       "       42., 54., 71.])"
      ]
     },
     "execution_count": 32,
     "metadata": {},
     "output_type": "execute_result"
    }
   ],
   "source": [
    "npi_long.NPI_value.unique()"
   ]
  },
  {
   "cell_type": "code",
   "execution_count": 119,
   "metadata": {},
   "outputs": [
    {
     "data": {
      "text/plain": [
       "(89659, 10)"
      ]
     },
     "execution_count": 119,
     "metadata": {},
     "output_type": "execute_result"
    }
   ],
   "source": [
    "# Drop rows with NPI_value NAN\n",
    "def is_numeric(value):\n",
    "    try:\n",
    "        float(value)\n",
    "        return True\n",
    "    except ValueError:\n",
    "        return False\n",
    "\n",
    "npi_long_new = npi_long.dropna(subset=['NPI_value']).copy()\n",
    "npi_long_new['NPI_value'] = npi_long_new['NPI_value'].apply(lambda x: round(float(x), 6) if is_numeric(x) else x)\n",
    "npi_long_new.shape #(89659, 10)"
   ]
  },
  {
   "cell_type": "code",
   "execution_count": 120,
   "metadata": {},
   "outputs": [],
   "source": [
    "# Assign custom concepts per NPI question section\n",
    "npi_codes = {\n",
    "    'A': 2041571201,\n",
    "    'B': 2041571202,\n",
    "    'C': 2041571203,\n",
    "    'D': 2041571204,\n",
    "    'E': 2041571205,\n",
    "    'F': 2041571206,\n",
    "    'G': 2041571207,\n",
    "    'H': 2041571208,\n",
    "    'I': 2041571209,\n",
    "    'J': 2041571210,\n",
    "    'K': 2041571211,\n",
    "    'L': 2041571212,\n",
    "    'T': 2041571213\n",
    "}\n",
    "\n",
    "npi_long_new['concept_id'] = npi_long_new['NPI_section'].map(npi_codes)"
   ]
  },
  {
   "cell_type": "code",
   "execution_count": 121,
   "metadata": {},
   "outputs": [],
   "source": [
    "# Create measurement_id \n",
    "# max measurement_id in the db as of 5/17/2024 = 560169\n",
    "npi_long_new['measurement_id'] = range(560169, 560169 + npi_long_new.shape[0])"
   ]
  },
  {
   "cell_type": "code",
   "execution_count": 123,
   "metadata": {},
   "outputs": [],
   "source": [
    "npi_long_new['VISDATE'] = pd.to_datetime(npi_long_new['VISDATE'].str.strip(), errors='coerce')"
   ]
  },
  {
   "cell_type": "code",
   "execution_count": 124,
   "metadata": {},
   "outputs": [],
   "source": [
    "# Convert Exam date and visit date\n",
    "npi_long_new['EXAMDATE_DT'] = pd.to_datetime(npi_long_new['EXAMDATE'].str.strip(), errors = 'coerce')"
   ]
  },
  {
   "cell_type": "code",
   "execution_count": null,
   "metadata": {},
   "outputs": [],
   "source": [
    "# Look through NA exam dates\n",
    "npi_long_new[npi_long_new['EXAMDATE_DT'].isna()]"
   ]
  },
  {
   "cell_type": "code",
   "execution_count": null,
   "metadata": {},
   "outputs": [],
   "source": [
    "# Look through NA visit dates\n",
    "npi_long_new[npi_long_new['VISDATE'].isna()]"
   ]
  },
  {
   "cell_type": "code",
   "execution_count": 127,
   "metadata": {},
   "outputs": [
    {
     "data": {
      "text/plain": [
       "(89568, 13)"
      ]
     },
     "execution_count": 127,
     "metadata": {},
     "output_type": "execute_result"
    }
   ],
   "source": [
    "# To maximize retaining data, we will use visit date as measurement date\n",
    "# Drop rows where visit date is NAN\n",
    "npi_long_new = npi_long_new.dropna(subset=['VISDATE'])\n",
    "npi_long_new.shape #(89568, 13)"
   ]
  },
  {
   "cell_type": "code",
   "execution_count": 129,
   "metadata": {},
   "outputs": [],
   "source": [
    "sql = '''\n",
    "    INSERT INTO dbo.measurement (measurement_id, person_id, measurement_concept_id, measurement_date, measurement_type_concept_id, value_as_number, measurement_source_concept_id) \n",
    "    VALUES (%s,%s,%s,%s,%s,%s,%s)\n",
    "'''\n",
    "\n",
    "# Define batch size\n",
    "batch_size = 20000\n",
    "batch = []\n",
    "\n",
    "# Iterate through the DataFrame\n",
    "for index, row in npi_long_new.iterrows():\n",
    "    # Append row data to the batch\n",
    "    batch.append((row['measurement_id'], row['person_id'], row['concept_id'], row['VISDATE'], 32817, row['NPI_value'], row['concept_id']))\n",
    "\n",
    "    # Check if batch size is reached or if it's the last row\n",
    "    if len(batch) == batch_size or (index == len(npi_long_new) - 1):\n",
    "        # Execute the batch\n",
    "        cursor.executemany(sql, batch)\n",
    "        conn.commit()  # Commit after each batch\n",
    "        batch = []  # Clear the batch for the next set of rows\n",
    "\n",
    "# Close the cursor and connection\n",
    "cursor.close()\n",
    "conn.close()"
   ]
  },
  {
   "cell_type": "code",
   "execution_count": null,
   "metadata": {},
   "outputs": [],
   "source": [
    "# check if the measurement table is updated with NPI values\n",
    "\n",
    "sql_query = \"SELECT * FROM dbo.measurement where measurement_source_concept_id between 2041571201 and 2041571213\"\n",
    "df_measurement_npi = pd.read_sql_query(sql_query, conn)"
   ]
  },
  {
   "cell_type": "code",
   "execution_count": 8,
   "metadata": {},
   "outputs": [],
   "source": [
    "agg_npi = df_measurement_npi.groupby('person_id')['measurement_date'].agg(['min', 'max']).reset_index()"
   ]
  },
  {
   "cell_type": "markdown",
   "metadata": {},
   "source": [
    "### Update the Observation_period table"
   ]
  },
  {
   "cell_type": "code",
   "execution_count": 15,
   "metadata": {},
   "outputs": [
    {
     "name": "stderr",
     "output_type": "stream",
     "text": [
      "/var/folders/wh/p78ddrtn39j879rx8h8fs8fr0000gn/T/ipykernel_91043/3309558774.py:3: UserWarning: pandas only supports SQLAlchemy connectable (engine/connection) or database string URI or sqlite3 DBAPI2 connection. Other DBAPI2 objects are not tested. Please consider using SQLAlchemy.\n",
      "  df_obs_period = pd.read_sql_query(sql, conn)\n"
     ]
    }
   ],
   "source": [
    "import pandas as pd\n",
    "\n",
    "sql = 'select * from dbo.observation_period'\n",
    "df_obs_period = pd.read_sql_query(sql, conn)"
   ]
  },
  {
   "cell_type": "code",
   "execution_count": null,
   "metadata": {},
   "outputs": [],
   "source": [
    "df_obs_period_npi = df_obs_period.merge(agg_npi, on = 'person_id')\n",
    "df_obs_period_npi['older_date'] = df_obs_period_npi[['observation_period_start_date', 'min']].min(axis = 1)\n",
    "df_obs_period_npi['later_date'] = df_obs_period_npi[['observation_period_end_date', 'max']].max(axis = 1)"
   ]
  },
  {
   "cell_type": "code",
   "execution_count": 14,
   "metadata": {},
   "outputs": [],
   "source": [
    "sql_query = '''\n",
    "    UPDATE dbo.observation_period\n",
    "    SET observation_period_start_date = %s, observation_period_end_date = %s\n",
    "    WHERE person_id = %s\n",
    "'''\n",
    "\n",
    "for index, row in df_obs_period_npi.iterrows():\n",
    "    cursor.execute(sql_query, (row['older_date'], row['later_date'], row['person_id']))\n",
    "\n",
    "conn.commit()"
   ]
  },
  {
   "cell_type": "code",
   "execution_count": 18,
   "metadata": {},
   "outputs": [],
   "source": [
    "cursor.close()\n",
    "conn.close()"
   ]
  },
  {
   "cell_type": "markdown",
   "metadata": {},
   "source": [
    "## Ingesting diagnosis codes"
   ]
  },
  {
   "cell_type": "code",
   "execution_count": 6,
   "metadata": {},
   "outputs": [],
   "source": [
    "import pandas as pd\n",
    "\n",
    "dx = pd.read_csv('./files/ADNI/DXSUM_diagnosis.csv')"
   ]
  },
  {
   "cell_type": "code",
   "execution_count": null,
   "metadata": {},
   "outputs": [],
   "source": [
    "dx = dx.merge(patient_demo_staging[[\"source_id\", \"person_id\"]], left_on = 'PTID', right_on = 'source_id', how = 'left')\n",
    "dx.head()"
   ]
  },
  {
   "cell_type": "code",
   "execution_count": 17,
   "metadata": {},
   "outputs": [
    {
     "data": {
      "text/plain": [
       "array([3., 2.])"
      ]
     },
     "execution_count": 17,
     "metadata": {},
     "output_type": "execute_result"
    }
   ],
   "source": [
    "dx_no_control = dx[dx['DIAGNOSIS']>1].copy().reset_index()\n",
    "dx_no_control['DIAGNOSIS'].unique()"
   ]
  },
  {
   "cell_type": "code",
   "execution_count": 18,
   "metadata": {},
   "outputs": [
    {
     "data": {
      "text/plain": [
       "((8677, 6), (13842, 5))"
      ]
     },
     "execution_count": 18,
     "metadata": {},
     "output_type": "execute_result"
    }
   ],
   "source": [
    "dx_no_control.shape, dx.shape"
   ]
  },
  {
   "cell_type": "code",
   "execution_count": 13,
   "metadata": {},
   "outputs": [],
   "source": [
    "mapping = {2: 4297400, 3: 4182210}"
   ]
  },
  {
   "cell_type": "code",
   "execution_count": 19,
   "metadata": {},
   "outputs": [],
   "source": [
    "dx_no_control['id'] = range(1,len(dx_no_control)+1)\n",
    "dx_no_control['concept_id'] = dx_no_control['DIAGNOSIS'].map(mapping)\n",
    "dx_no_control['condition_type_concept_id'] = 32817"
   ]
  },
  {
   "cell_type": "code",
   "execution_count": 21,
   "metadata": {},
   "outputs": [],
   "source": [
    "dx_no_control.to_csv('./files/OMOP CDM Staging/dx_for_omop.csv')"
   ]
  },
  {
   "cell_type": "code",
   "execution_count": null,
   "metadata": {},
   "outputs": [],
   "source": [
    "# Update CONDITION_OCCURRENCE\n",
    "sql = '''\n",
    "    INSERT INTO dbo.condition_occurrence (condition_occurrence_id, person_id, condition_concept_id, condition_start_date, condition_type_concept_id) \n",
    "    VALUES (%s,%s,%s,%s,%s)\n",
    "    '''\n",
    "for index, row in dx_no_control.iterrows():\n",
    "    cursor.execute(sql, (row['id'], row['person_id'], row['concept_id'], row['EXAMDATE'], row['condition_type_concept_id']))\n",
    "\n",
    "conn.commit()"
   ]
  },
  {
   "cell_type": "markdown",
   "metadata": {},
   "source": [
    "### Mini-Mental Evaluation scores"
   ]
  },
  {
   "cell_type": "code",
   "execution_count": null,
   "metadata": {},
   "outputs": [],
   "source": [
    "import pandas as pd\n",
    "mmse = pd.read_csv('./files/ADNI/MMSE_08Aug2024.csv')\n",
    "mmse.head()"
   ]
  },
  {
   "cell_type": "code",
   "execution_count": 5,
   "metadata": {},
   "outputs": [
    {
     "data": {
      "text/plain": [
       "Index(['PHASE', 'PTID', 'RID', 'VISCODE', 'VISCODE2', 'VISDATE', 'DONE',\n",
       "       'NDREASON', 'SOURCE', 'MMDATE', 'MMYEAR', 'MMMONTH', 'MMDAY',\n",
       "       'MMSEASON', 'MMHOSPIT', 'MMFLOOR', 'MMCITY', 'MMAREA', 'MMSTATE',\n",
       "       'WORDLIST', 'WORD1', 'WORD2', 'WORD3', 'MMTRIALS', 'MMD', 'MML', 'MMR',\n",
       "       'MMO', 'MMW', 'MMLTR1', 'MMLTR2', 'MMLTR3', 'MMLTR4', 'MMLTR5',\n",
       "       'MMLTR6', 'MMLTR7', 'WORLDSCORE', 'WORD1DL', 'WORD2DL', 'WORD3DL',\n",
       "       'MMWATCH', 'MMPENCIL', 'MMREPEAT', 'MMHAND', 'MMFOLD', 'MMONFLR',\n",
       "       'MMREAD', 'MMWRITE', 'MMDRAW', 'MMSCORE', 'ID', 'SITEID', 'USERDATE',\n",
       "       'USERDATE2', 'DD_CRF_VERSION_LABEL', 'LANGUAGE_CODE', 'HAS_QC_ERROR',\n",
       "       'update_stamp'],\n",
       "      dtype='object')"
      ]
     },
     "execution_count": 5,
     "metadata": {},
     "output_type": "execute_result"
    }
   ],
   "source": [
    "mmse.columns"
   ]
  },
  {
   "cell_type": "code",
   "execution_count": null,
   "metadata": {},
   "outputs": [],
   "source": [
    "data_dic = pd.read_csv('./files/DATADIC_08Aug2024.csv')\n",
    "data_dic.head()"
   ]
  },
  {
   "cell_type": "code",
   "execution_count": 9,
   "metadata": {},
   "outputs": [
    {
     "data": {
      "text/plain": [
       "array(['PTID', 'RID', 'VISCODE', 'EXAMDATE', 'VISDATE', 'MMDATE',\n",
       "       'MMDATECM', 'MMYEAR', 'MMYEARCM', 'MMMONTH', 'MMMNTHCM', 'MMDAY',\n",
       "       'MMDAYCM', 'MMSEASON', 'MMSESNCM', 'MMHOSPIT', 'MMHOSPCM',\n",
       "       'MMFLOOR', 'MMFLRCM', 'MMCITY', 'MMCITYCM', 'MMAREA', 'MMAREACM',\n",
       "       'MMSTATE', 'MMSTCM', 'MMBALL', 'MMFLAG', 'MMTREE', 'MMTRIALS',\n",
       "       'MMD', 'MMDLTR', 'MML', 'MMLLTR', 'MMR', 'MMRLTR', 'MMO', 'MMOLTR',\n",
       "       'MMW', 'MMWLTR', 'MMBALLDL', 'MMFLAGDL', 'MMTREEDL', 'MMWATCH',\n",
       "       'MMPENCIL', 'MMREPEAT', 'MMHAND', 'MMFOLD', 'MMONFLR', 'MMREAD',\n",
       "       'MMWRITE', 'MMDRAW', 'MMSCORE', 'ID', 'SITEID', 'USERDATE',\n",
       "       'USERDATE2', 'VISCODE2', 'MMRECALL', 'MMLTR1', 'MMLTR2', 'MMLTR3',\n",
       "       'MMLTR4', 'MMLTR5', 'MMLTR6', 'MMLTR7', 'WORLDSCORE', 'DONE',\n",
       "       'NDREASON', 'WORDLIST', 'WORD1', 'WORD2', 'WORD3', 'WORD1DL',\n",
       "       'WORD2DL', 'WORD3DL', 'DATE', 'SOURCE', 'DD_CRF_VERSION_LABEL',\n",
       "       'LANGUAGE_CODE', 'HAS_QC_ERROR'], dtype=object)"
      ]
     },
     "execution_count": 9,
     "metadata": {},
     "output_type": "execute_result"
    }
   ],
   "source": [
    "data_dic[data_dic['TBLNAME']==\"MMSE\"]['FLDNAME'].unique()"
   ]
  }
 ],
 "metadata": {
  "kernelspec": {
   "display_name": "Python 3",
   "language": "python",
   "name": "python3"
  },
  "language_info": {
   "codemirror_mode": {
    "name": "ipython",
    "version": 3
   },
   "file_extension": ".py",
   "mimetype": "text/x-python",
   "name": "python",
   "nbconvert_exporter": "python",
   "pygments_lexer": "ipython3",
   "version": "3.9.6"
  }
 },
 "nbformat": 4,
 "nbformat_minor": 2
}

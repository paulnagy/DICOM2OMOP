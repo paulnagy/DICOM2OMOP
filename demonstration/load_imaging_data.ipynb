{
 "cells": [
  {
   "cell_type": "markdown",
   "metadata": {},
   "source": [
    "# Upload DICOM metadata\n",
    "\n",
    "* Download DICOM metadata you tranformed to OMOP CDM\n",
    "* Download ODBC Driver 18 from web <https://learn.microsoft.com/en-us/sql/connect/odbc/linux-mac/install-microsoft-odbc-driver-sql-server-macos?view=sql-server-ver16>\n",
    "* OMOP CDM instance with the connection string and authentication information. If your database access limits IP addresses, make sure to add your IP address before running the connection strings.\n",
    "* OMOP CDM Person table should be updated with demographic information, if available, before running this code. If not, you can upload the Person table using DICOM Patient metadata information.\n",
    "* Install SQL processing package, i.e., pyodbc."
   ]
  },
  {
   "cell_type": "code",
   "execution_count": 3,
   "metadata": {},
   "outputs": [],
   "source": [
    "# Load staging files\n",
    "import pandas as pd\n",
    "\n",
    "image_occurrence = pd.read_pickle('./files/OMOP CDM Staging/image_occurrence_staging_v3.pkl')\n",
    "image_feature = pd.read_pickle('./files/ADNI/image_series_metadata_v3.pkl')"
   ]
  },
  {
   "cell_type": "code",
   "execution_count": 11,
   "metadata": {},
   "outputs": [
    {
     "name": "stdout",
     "output_type": "stream",
     "text": [
      "(4756, 17) (283948, 22)\n"
     ]
    }
   ],
   "source": [
    "print(image_occurrence.shape, image_feature.shape)"
   ]
  },
  {
   "cell_type": "code",
   "execution_count": 5,
   "metadata": {},
   "outputs": [],
   "source": [
    "image_feature['concept_id_y'] = image_feature['concept_id_y'].fillna(0)"
   ]
  },
  {
   "cell_type": "code",
   "execution_count": 16,
   "metadata": {},
   "outputs": [],
   "source": [
    "# Connect to the database\n",
    "import psycopg2\n",
    "\n",
    "conn = psycopg2.connect(\n",
    "    database=\"\",\n",
    "    user=\"\",\n",
    "    password=\"\",\n",
    "    host=\"\",\n",
    "    port=\"\",\n",
    "    connect_timeout = 6000\n",
    ")\n",
    "\n",
    "cursor = conn.cursor()"
   ]
  },
  {
   "cell_type": "code",
   "execution_count": null,
   "metadata": {},
   "outputs": [],
   "source": [
    "# Update PROCERURE_OCCURRENCE\n",
    "sql = '''\n",
    "    INSERT INTO dbo.procedure_occurrence (procedure_occurrence_id, person_id, procedure_concept_id, procedure_date, procedure_type_concept_id) \n",
    "    VALUES (%s,%s,%s,%s,%s)\n",
    "    '''\n",
    "for index, row in image_occurrence.iterrows():\n",
    "    cursor.execute(sql, (row['procedure_occurrence_id'], row['person_id'], row['modality_concept_id'], row['image_occurrence_date'], row['visit_type_concept_id']))\n",
    "\n",
    "conn.commit()"
   ]
  },
  {
   "cell_type": "code",
   "execution_count": null,
   "metadata": {},
   "outputs": [],
   "source": [
    "# Update Visit_OCCURRENCE\n",
    "sql = '''\n",
    "    INSERT INTO dbo.visit_occurrence (visit_occurrence_id, person_id, visit_concept_id, visit_start_date, visit_end_date, visit_type_concept_id) \n",
    "    VALUES (%s,%s,%s,%s,%s,%s)\n",
    "    '''\n",
    "for index, row in image_occurrence.iterrows():\n",
    "    cursor.execute(sql, (row['visit_occurrence_id'], row['person_id'], row['visit_concept_id'], row['image_occurrence_date'], row['image_occurrence_date'], row['visit_type_concept_id']))\n",
    "\n",
    "conn.commit()"
   ]
  },
  {
   "cell_type": "code",
   "execution_count": null,
   "metadata": {},
   "outputs": [],
   "source": [
    "# Update IMAGE_OCCURRENCE\n",
    "sql = '''\n",
    "    INSERT INTO dbo.image_occurrence (image_occurrence_id, person_id, procedure_occurrence_id, anatomic_site_concept_id, wadors_uri, image_occurrence_date, image_study_uid, image_series_uid, modality_concept_id) \n",
    "    VALUES (%s,%s,%s,%s,%s,%s,%s,%s,%s)\n",
    "    '''\n",
    "for index, row in image_occurrence.iterrows():\n",
    "    cursor.execute(sql, (row['image_occurrence_id'], row['person_id'], row['procedure_occurrence_id'],  row['anatomic_site_concept_id'], row['wadors_uri'], row['image_occurrence_date'],\n",
    "                    row['StudyUID'], row['SeriesUID'], row['modality_concept_id']))\n",
    "\n",
    "conn.commit()"
   ]
  },
  {
   "cell_type": "code",
   "execution_count": 9,
   "metadata": {},
   "outputs": [
    {
     "data": {
      "text/plain": [
       "283948"
      ]
     },
     "execution_count": 9,
     "metadata": {},
     "output_type": "execute_result"
    }
   ],
   "source": [
    "image_feature['image_feature_event_id'].max()"
   ]
  },
  {
   "cell_type": "code",
   "execution_count": 12,
   "metadata": {},
   "outputs": [],
   "source": [
    "# Update MEASUREMENT for numeric values\n",
    "sql = '''\n",
    "    INSERT INTO dbo.measurement (measurement_id, person_id, measurement_concept_id, measurement_date, measurement_type_concept_id, value_as_number, value_as_concept_id, measurement_source_value, measurement_source_concept_id) \n",
    "    VALUES (%s,%s,%s,%s,%s,%s,%s,%s,%s)\n",
    "'''\n",
    "\n",
    "# Define batch size\n",
    "batch_size = 20000\n",
    "batch = []\n",
    "\n",
    "# Iterate through the DataFrame\n",
    "for index, row in image_feature[~image_feature['value_as_number'].isna()].iterrows():\n",
    "    # Append row data to the batch\n",
    "    batch.append((\n",
    "        row['image_feature_event_id'], \n",
    "        row['person_id'], \n",
    "        row['concept_id_x'], \n",
    "        row['image_occurrence_date'], \n",
    "        row['image_feature_event_type_id'], \n",
    "        row['value_as_number'], \n",
    "        row['concept_id_y'], \n",
    "        row['measurement_source_value'], \n",
    "        row['concept_id_x']\n",
    "    ))\n",
    "\n",
    "    # Check if batch size is reached or if it's the last row\n",
    "    if len(batch) == batch_size or (index == len(image_feature) - 1):\n",
    "        # Execute the batch\n",
    "        cursor.executemany(sql, batch)\n",
    "        conn.commit()  # Commit after each batch\n",
    "        batch = []  # Clear the batch for the next set of rows"
   ]
  },
  {
   "cell_type": "code",
   "execution_count": 14,
   "metadata": {},
   "outputs": [],
   "source": [
    "# Update MEASUREMENT for non-numeric values\n",
    "sql = '''\n",
    "    INSERT INTO dbo.measurement (measurement_id, person_id, measurement_concept_id, measurement_date, measurement_type_concept_id, value_as_concept_id, measurement_source_value, measurement_source_concept_id) \n",
    "    VALUES (%s,%s,%s,%s,%s,%s,%s,%s)\n",
    "'''\n",
    "\n",
    "# Define batch size\n",
    "batch_size = 20000\n",
    "batch = []\n",
    "\n",
    "# Iterate through the DataFrame\n",
    "for index, row in image_feature[image_feature['value_as_number'].isna()].iterrows():\n",
    "    # Append row data to the batch\n",
    "    batch.append((\n",
    "        row['image_feature_event_id'], \n",
    "        row['person_id'], \n",
    "        row['concept_id_x'], \n",
    "        row['image_occurrence_date'], \n",
    "        row['image_feature_event_type_id'], \n",
    "        row['concept_id_y'], \n",
    "        row['measurement_source_value'], \n",
    "        row['concept_id_x']\n",
    "    ))\n",
    "\n",
    "    # Check if batch size is reached or if it's the last row\n",
    "    if len(batch) == batch_size or (index == len(image_feature) - 1):\n",
    "        # Execute the batch\n",
    "        cursor.executemany(sql, batch)\n",
    "        conn.commit()  # Commit after each batch\n",
    "        batch = []  # Clear the batch for the next set of rows"
   ]
  },
  {
   "cell_type": "code",
   "execution_count": 17,
   "metadata": {},
   "outputs": [],
   "source": [
    "# Update IMAGE_FEATURE\n",
    "sql = '''\n",
    "    INSERT INTO dbo.image_feature (image_feature_id, person_id, image_occurrence_id, image_feature_event_id,\n",
    "      image_feature_event_field_concept_id, image_feature_concept_id, image_feature_type_concept_id, anatomic_site_concept_id) \n",
    "    VALUES (%s,%s,%s,%s,%s,%s,%s,%s)\n",
    "'''\n",
    "\n",
    "# Define batch size\n",
    "batch_size = 20000\n",
    "batch = []\n",
    "\n",
    "# Iterate through the DataFrame\n",
    "for index, row in image_feature.iterrows():\n",
    "    # Append row data to the batch\n",
    "    batch.append((row['image_feature_event_id'], row['person_id'], row['image_occurrence_id'], row['image_feature_event_id'], \n",
    "                  row['image_feature_event_field_id'], row['concept_id_x'], row['image_feature_event_type_id'],\n",
    "                  row['anatomic_site_concept_id']))\n",
    "\n",
    "    # Check if batch size is reached or if it's the last row\n",
    "    if len(batch) == batch_size or (index == len(image_feature) - 1):\n",
    "        # Execute the batch\n",
    "        cursor.executemany(sql, batch)\n",
    "        conn.commit()  # Commit after each batch\n",
    "        batch = []  # Clear the batch for the next set of rows"
   ]
  },
  {
   "cell_type": "code",
   "execution_count": 18,
   "metadata": {},
   "outputs": [],
   "source": [
    "# Close the cursor and connection\n",
    "cursor.close()\n",
    "conn.close()"
   ]
  }
 ],
 "metadata": {
  "kernelspec": {
   "display_name": "Python 3",
   "language": "python",
   "name": "python3"
  },
  "language_info": {
   "codemirror_mode": {
    "name": "ipython",
    "version": 3
   },
   "file_extension": ".py",
   "mimetype": "text/x-python",
   "name": "python",
   "nbconvert_exporter": "python",
   "pygments_lexer": "ipython3",
   "version": "3.9.6"
  }
 },
 "nbformat": 4,
 "nbformat_minor": 2
}

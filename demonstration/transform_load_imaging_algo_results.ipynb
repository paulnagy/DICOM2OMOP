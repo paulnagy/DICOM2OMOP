{
 "cells": [
  {
   "cell_type": "markdown",
   "metadata": {},
   "source": [
    "# Transform Imaging Features from Segmentation Algorithm Results\n",
    "\n",
    "After selecting a cohort using DICOM concepts on Atlas, the images were sent to go under a segmentation algorithm OpenMAP T1. The result file was added to the files folder. This notebook transform and upload the results.\n",
    "\n",
    "* Prerequisites\n",
    "  * DICOM custom concepts loaded tom OMOP CDM\n",
    "  * Imaging extension tables are updated for the images used for the algorithm"
   ]
  },
  {
   "cell_type": "code",
   "execution_count": 3,
   "metadata": {},
   "outputs": [],
   "source": [
    "# Load result files and custom concepts for brain volume OpenMAP segmentation\n",
    "import pandas as pd\n",
    "\n",
    "new_vol = pd.read_csv('./files/OpenMAP/cohort1_volumes_0726.csv')"
   ]
  },
  {
   "cell_type": "code",
   "execution_count": 16,
   "metadata": {},
   "outputs": [
    {
     "data": {
      "text/plain": [
       "280"
      ]
     },
     "execution_count": 16,
     "metadata": {},
     "output_type": "execute_result"
    }
   ],
   "source": [
    "# OpenMAP has unique set of brain parts that are not in standard concepts. We will add them as custom concepts. \n",
    "neuroanatomics = [col for col in new_vol.columns if col not in ['series_id', 'study_id']]\n",
    "len(neuroanatomics)"
   ]
  },
  {
   "cell_type": "code",
   "execution_count": 17,
   "metadata": {},
   "outputs": [
    {
     "data": {
      "text/html": [
       "<div>\n",
       "<style scoped>\n",
       "    .dataframe tbody tr th:only-of-type {\n",
       "        vertical-align: middle;\n",
       "    }\n",
       "\n",
       "    .dataframe tbody tr th {\n",
       "        vertical-align: top;\n",
       "    }\n",
       "\n",
       "    .dataframe thead th {\n",
       "        text-align: right;\n",
       "    }\n",
       "</style>\n",
       "<table border=\"1\" class=\"dataframe\">\n",
       "  <thead>\n",
       "    <tr style=\"text-align: right;\">\n",
       "      <th></th>\n",
       "      <th>concept_id</th>\n",
       "      <th>concept_name</th>\n",
       "      <th>domain_id</th>\n",
       "      <th>vocabulary_id</th>\n",
       "      <th>concept_class_id</th>\n",
       "      <th>concept_code</th>\n",
       "      <th>valid_start_date</th>\n",
       "      <th>valid_end_date</th>\n",
       "    </tr>\n",
       "  </thead>\n",
       "  <tbody>\n",
       "    <tr>\n",
       "      <th>0</th>\n",
       "      <td>2129000000</td>\n",
       "      <td>SFG_L</td>\n",
       "      <td>Spec Anatomic Site</td>\n",
       "      <td>0</td>\n",
       "      <td>Body Structure</td>\n",
       "      <td>SFG_L</td>\n",
       "      <td>2024-06-01</td>\n",
       "      <td>2099-12-31</td>\n",
       "    </tr>\n",
       "    <tr>\n",
       "      <th>1</th>\n",
       "      <td>2129000001</td>\n",
       "      <td>SFG_R</td>\n",
       "      <td>Spec Anatomic Site</td>\n",
       "      <td>0</td>\n",
       "      <td>Body Structure</td>\n",
       "      <td>SFG_R</td>\n",
       "      <td>2024-06-01</td>\n",
       "      <td>2099-12-31</td>\n",
       "    </tr>\n",
       "    <tr>\n",
       "      <th>2</th>\n",
       "      <td>2129000002</td>\n",
       "      <td>SFG_PFC_L</td>\n",
       "      <td>Spec Anatomic Site</td>\n",
       "      <td>0</td>\n",
       "      <td>Body Structure</td>\n",
       "      <td>SFG_PFC_L</td>\n",
       "      <td>2024-06-01</td>\n",
       "      <td>2099-12-31</td>\n",
       "    </tr>\n",
       "    <tr>\n",
       "      <th>3</th>\n",
       "      <td>2129000003</td>\n",
       "      <td>SFG_PFC_R</td>\n",
       "      <td>Spec Anatomic Site</td>\n",
       "      <td>0</td>\n",
       "      <td>Body Structure</td>\n",
       "      <td>SFG_PFC_R</td>\n",
       "      <td>2024-06-01</td>\n",
       "      <td>2099-12-31</td>\n",
       "    </tr>\n",
       "    <tr>\n",
       "      <th>4</th>\n",
       "      <td>2129000004</td>\n",
       "      <td>SFG_pole_L</td>\n",
       "      <td>Spec Anatomic Site</td>\n",
       "      <td>0</td>\n",
       "      <td>Body Structure</td>\n",
       "      <td>SFG_pole_L</td>\n",
       "      <td>2024-06-01</td>\n",
       "      <td>2099-12-31</td>\n",
       "    </tr>\n",
       "  </tbody>\n",
       "</table>\n",
       "</div>"
      ],
      "text/plain": [
       "   concept_id concept_name           domain_id vocabulary_id concept_class_id  \\\n",
       "0  2129000000        SFG_L  Spec Anatomic Site             0   Body Structure   \n",
       "1  2129000001        SFG_R  Spec Anatomic Site             0   Body Structure   \n",
       "2  2129000002    SFG_PFC_L  Spec Anatomic Site             0   Body Structure   \n",
       "3  2129000003    SFG_PFC_R  Spec Anatomic Site             0   Body Structure   \n",
       "4  2129000004   SFG_pole_L  Spec Anatomic Site             0   Body Structure   \n",
       "\n",
       "  concept_code valid_start_date valid_end_date  \n",
       "0        SFG_L       2024-06-01     2099-12-31  \n",
       "1        SFG_R       2024-06-01     2099-12-31  \n",
       "2    SFG_PFC_L       2024-06-01     2099-12-31  \n",
       "3    SFG_PFC_R       2024-06-01     2099-12-31  \n",
       "4   SFG_pole_L       2024-06-01     2099-12-31  "
      ]
     },
     "execution_count": 17,
     "metadata": {},
     "output_type": "execute_result"
    }
   ],
   "source": [
    "neuroanatomics_id = [2129000000 + i for i in range(len(neuroanatomics))]\n",
    "\n",
    "neuro_concept_ids = pd.DataFrame({\n",
    "    'concept_id': neuroanatomics_id,\n",
    "    'concept_name': neuroanatomics,\n",
    "    'domain_id': \"Spec Anatomic Site\",\n",
    "    'vocabulary_id': \"0\",\n",
    "    'concept_class_id': \"Body Structure\",\n",
    "    'concept_code': neuroanatomics,\n",
    "    'valid_start_date': \"2024-06-01\",\n",
    "    'valid_end_date': \"2099-12-31\"\n",
    "})\n",
    "\n",
    "neuro_concept_ids.head()"
   ]
  },
  {
   "cell_type": "code",
   "execution_count": 18,
   "metadata": {},
   "outputs": [
    {
     "data": {
      "text/html": [
       "<div>\n",
       "<style scoped>\n",
       "    .dataframe tbody tr th:only-of-type {\n",
       "        vertical-align: middle;\n",
       "    }\n",
       "\n",
       "    .dataframe tbody tr th {\n",
       "        vertical-align: top;\n",
       "    }\n",
       "\n",
       "    .dataframe thead th {\n",
       "        text-align: right;\n",
       "    }\n",
       "</style>\n",
       "<table border=\"1\" class=\"dataframe\">\n",
       "  <thead>\n",
       "    <tr style=\"text-align: right;\">\n",
       "      <th></th>\n",
       "      <th>concept_id</th>\n",
       "      <th>concept_name</th>\n",
       "      <th>domain_id</th>\n",
       "      <th>vocabulary_id</th>\n",
       "      <th>concept_class_id</th>\n",
       "      <th>concept_code</th>\n",
       "      <th>valid_start_date</th>\n",
       "      <th>valid_end_date</th>\n",
       "    </tr>\n",
       "  </thead>\n",
       "  <tbody>\n",
       "    <tr>\n",
       "      <th>0</th>\n",
       "      <td>2129001000</td>\n",
       "      <td>Volume Estimation of SFG_L</td>\n",
       "      <td>Measurement</td>\n",
       "      <td>0</td>\n",
       "      <td>Clinical Observation</td>\n",
       "      <td>Volume Estimation of SFG_L</td>\n",
       "      <td>2024-06-01</td>\n",
       "      <td>2099-12-31</td>\n",
       "    </tr>\n",
       "    <tr>\n",
       "      <th>1</th>\n",
       "      <td>2129001001</td>\n",
       "      <td>Volume Estimation of SFG_R</td>\n",
       "      <td>Measurement</td>\n",
       "      <td>0</td>\n",
       "      <td>Clinical Observation</td>\n",
       "      <td>Volume Estimation of SFG_R</td>\n",
       "      <td>2024-06-01</td>\n",
       "      <td>2099-12-31</td>\n",
       "    </tr>\n",
       "    <tr>\n",
       "      <th>2</th>\n",
       "      <td>2129001002</td>\n",
       "      <td>Volume Estimation of SFG_PFC_L</td>\n",
       "      <td>Measurement</td>\n",
       "      <td>0</td>\n",
       "      <td>Clinical Observation</td>\n",
       "      <td>Volume Estimation of SFG_PFC_L</td>\n",
       "      <td>2024-06-01</td>\n",
       "      <td>2099-12-31</td>\n",
       "    </tr>\n",
       "    <tr>\n",
       "      <th>3</th>\n",
       "      <td>2129001003</td>\n",
       "      <td>Volume Estimation of SFG_PFC_R</td>\n",
       "      <td>Measurement</td>\n",
       "      <td>0</td>\n",
       "      <td>Clinical Observation</td>\n",
       "      <td>Volume Estimation of SFG_PFC_R</td>\n",
       "      <td>2024-06-01</td>\n",
       "      <td>2099-12-31</td>\n",
       "    </tr>\n",
       "    <tr>\n",
       "      <th>4</th>\n",
       "      <td>2129001004</td>\n",
       "      <td>Volume Estimation of SFG_pole_L</td>\n",
       "      <td>Measurement</td>\n",
       "      <td>0</td>\n",
       "      <td>Clinical Observation</td>\n",
       "      <td>Volume Estimation of SFG_pole_L</td>\n",
       "      <td>2024-06-01</td>\n",
       "      <td>2099-12-31</td>\n",
       "    </tr>\n",
       "  </tbody>\n",
       "</table>\n",
       "</div>"
      ],
      "text/plain": [
       "   concept_id                     concept_name    domain_id  vocabulary_id  \\\n",
       "0  2129001000       Volume Estimation of SFG_L  Measurement              0   \n",
       "1  2129001001       Volume Estimation of SFG_R  Measurement              0   \n",
       "2  2129001002   Volume Estimation of SFG_PFC_L  Measurement              0   \n",
       "3  2129001003   Volume Estimation of SFG_PFC_R  Measurement              0   \n",
       "4  2129001004  Volume Estimation of SFG_pole_L  Measurement              0   \n",
       "\n",
       "       concept_class_id                     concept_code valid_start_date  \\\n",
       "0  Clinical Observation       Volume Estimation of SFG_L       2024-06-01   \n",
       "1  Clinical Observation       Volume Estimation of SFG_R       2024-06-01   \n",
       "2  Clinical Observation   Volume Estimation of SFG_PFC_L       2024-06-01   \n",
       "3  Clinical Observation   Volume Estimation of SFG_PFC_R       2024-06-01   \n",
       "4  Clinical Observation  Volume Estimation of SFG_pole_L       2024-06-01   \n",
       "\n",
       "  valid_end_date  \n",
       "0     2099-12-31  \n",
       "1     2099-12-31  \n",
       "2     2099-12-31  \n",
       "3     2099-12-31  \n",
       "4     2099-12-31  "
      ]
     },
     "execution_count": 18,
     "metadata": {},
     "output_type": "execute_result"
    }
   ],
   "source": [
    "neuro_vol_concept_ids = pd.DataFrame()\n",
    "neuro_vol_concept_ids['concept_id'] = neuro_concept_ids['concept_id'] + 1000\n",
    "neuro_vol_concept_ids['concept_name'] = neuro_concept_ids['concept_name'].apply(lambda x: f\"Volume Estimation of {x}\")\n",
    "neuro_vol_concept_ids['domain_id'] = 'Measurement'\n",
    "neuro_vol_concept_ids['vocabulary_id'] = 0\n",
    "neuro_vol_concept_ids['concept_class_id'] = 'Clinical Observation'\n",
    "neuro_vol_concept_ids['concept_code'] = neuro_concept_ids['concept_code'].apply(lambda x: f\"Volume Estimation of {x}\")\n",
    "neuro_vol_concept_ids['valid_start_date'] = \"2024-06-01\"\n",
    "neuro_vol_concept_ids['valid_end_date'] = \"2099-12-31\"\n",
    "neuro_vol_concept_ids.head()"
   ]
  },
  {
   "cell_type": "code",
   "execution_count": null,
   "metadata": {},
   "outputs": [],
   "source": [
    "new_concepts = pd.concat([neuro_concept_ids, neuro_vol_concept_ids])\n",
    "print(new_concepts.shape)\n",
    "new_concepts.head()"
   ]
  },
  {
   "cell_type": "code",
   "execution_count": 27,
   "metadata": {},
   "outputs": [],
   "source": [
    "new_concepts.to_csv('./files/OMOP CDM Staging/concept_vol_brain.csv')"
   ]
  },
  {
   "cell_type": "markdown",
   "metadata": {},
   "source": [
    "## Transform brain segmentation values"
   ]
  },
  {
   "cell_type": "code",
   "execution_count": null,
   "metadata": {},
   "outputs": [],
   "source": [
    "new_vol_long = new_vol.melt(id_vars = ['study_id', 'series_id'],var_name = 'brain_vol_name', value_name = 'value')\n",
    "new_vol_long.head()"
   ]
  },
  {
   "cell_type": "code",
   "execution_count": 7,
   "metadata": {},
   "outputs": [
    {
     "data": {
      "text/plain": [
       "550"
      ]
     },
     "execution_count": 7,
     "metadata": {},
     "output_type": "execute_result"
    }
   ],
   "source": [
    "new_vol_long['series_id'].nunique()"
   ]
  },
  {
   "cell_type": "code",
   "execution_count": null,
   "metadata": {},
   "outputs": [],
   "source": [
    "new_vol_long = new_vol_long.merge(neuro_concept_ids[['concept_code', 'concept_id']], how = 'left', left_on = 'brain_vol_name', right_on = 'concept_code')\n",
    "new_vol_long['vol_concept_id'] = new_vol_long['concept_id'] + 1000\n",
    "new_vol_long.head()"
   ]
  },
  {
   "cell_type": "code",
   "execution_count": null,
   "metadata": {},
   "outputs": [],
   "source": [
    "# Import image_occurrence from the database\n",
    "\n",
    "# Connect to the database\n",
    "import psycopg2\n",
    "\n",
    "conn = psycopg2.connect(\n",
    "    database=\"\",\n",
    "    user=\"\",\n",
    "    password=\"\",\n",
    "    host=\"\",\n",
    "    port=\"\",\n",
    "    connect_timeout = 6000\n",
    ")\n",
    "\n",
    "cursor = conn.cursor()\n",
    "\n",
    "sql = \"select * from dbo.image_occurrence\"\n",
    "image_occurrence = pd.read_sql_query(sql, conn)\n",
    "\n",
    "sql = \"select max(image_feature_id) from dbo.image_feature\"\n",
    "image_feature_id_max = pd.read_sql_query(sql, conn)\n",
    "\n",
    "sql = \"select max(measurement_id) from dbo.measurement\"\n",
    "measurement_id_max = pd.read_sql_query(sql, conn)\n",
    "\n",
    "# close the cursor and connection\n",
    "cursor.close()\n",
    "conn.close()"
   ]
  },
  {
   "cell_type": "code",
   "execution_count": null,
   "metadata": {},
   "outputs": [],
   "source": [
    "new_vol_long = new_vol_long.merge(image_occurrence[['image_series_uid', 'image_occurrence_id', 'image_occurrence_date', 'person_id']], how ='left', left_on = 'series_id', right_on = 'image_series_uid')\n",
    "new_vol_long.head()"
   ]
  },
  {
   "cell_type": "code",
   "execution_count": 18,
   "metadata": {},
   "outputs": [],
   "source": [
    "measurement_id_max = int(measurement_id_max.iloc[0, 0])\n",
    "image_feature_id_max = int(image_feature_id_max.iloc[0,0])"
   ]
  },
  {
   "cell_type": "code",
   "execution_count": null,
   "metadata": {},
   "outputs": [],
   "source": [
    "new_vol_long['image_feature_event_field_concept_id'] = 1147330\n",
    "new_vol_long['image_feature_type_concept_id'] = 32880\n",
    "new_vol_long['measurement_id'] = range(measurement_id_max+1, measurement_id_max+1 + len(new_vol_long), 1)\n",
    "new_vol_long['image_feature_id'] = range(image_feature_id_max+1, image_feature_id_max+1 + len(new_vol_long), 1)\n",
    "new_vol_long.head()"
   ]
  },
  {
   "cell_type": "markdown",
   "metadata": {},
   "source": [
    "## Upload the transformed datasets"
   ]
  },
  {
   "cell_type": "code",
   "execution_count": null,
   "metadata": {},
   "outputs": [],
   "source": [
    "import psycopg2\n",
    "\n",
    "conn = psycopg2.connect(\n",
    "    database=\"\",\n",
    "    user=\"\",\n",
    "    password=\"\",\n",
    "    host=\"\",\n",
    "    port=\"\",\n",
    "    connect_timeout = 6000\n",
    ")\n",
    "\n",
    "cursor = conn.cursor()"
   ]
  },
  {
   "cell_type": "code",
   "execution_count": null,
   "metadata": {},
   "outputs": [],
   "source": [
    "# Update CONCEPT\n",
    "\n",
    "sql = '''\n",
    "    INSERT INTO dbo.concept (concept_id,concept_name,domain_id,vocabulary_id,concept_class_id,concept_code,valid_start_date,valid_end_date) \n",
    "    VALUES (%s,%s,%s,%s,%s,%s,%s,%s)\n",
    "    '''\n",
    "for index, row in new_concepts.iterrows():\n",
    "    cursor.execute(sql, (row['concept_id'], row['concept_name'], row['domain_id'], row['vocabulary_id'], row['concept_class_id'], row['concept_code'],row['valid_start_date'], row['valid_end_date']))\n",
    "\n",
    "conn.commit()"
   ]
  },
  {
   "cell_type": "code",
   "execution_count": null,
   "metadata": {},
   "outputs": [],
   "source": [
    "# Update MEASUREMENT\n",
    "sql = '''\n",
    "    INSERT INTO dbo.measurement (measurement_id, person_id, measurement_concept_id, measurement_date, measurement_type_concept_id, value_as_number, measurement_source_value, measurement_source_concept_id) \n",
    "    VALUES (%s,%s,%s,%s,%s,%s,%s,%s)\n",
    "'''\n",
    "\n",
    "# Define batch size\n",
    "batch_size = 20000\n",
    "batch = []\n",
    "\n",
    "# Iterate through the DataFrame\n",
    "for index, row in new_vol_long.iterrows():\n",
    "    # Append row data to the batch\n",
    "    batch.append((row['measurement_id'], row['person_id'], row['vol_concept_id'], row['image_occurrence_date'], row['image_feature_type_concept_id'], row['value'], row['value'], row['vol_concept_id']))\n",
    "\n",
    "    # Check if batch size is reached or if it's the last row\n",
    "    if len(batch) == batch_size or (index == len(new_vol_long) - 1):\n",
    "        # Execute the batch\n",
    "        cursor.executemany(sql, batch)\n",
    "        conn.commit()  # Commit after each batch\n",
    "        batch = []  # Clear the batch for the next set of rows"
   ]
  },
  {
   "cell_type": "code",
   "execution_count": null,
   "metadata": {},
   "outputs": [],
   "source": [
    "# Update IMAGE_FEATURE\n",
    "sql = '''\n",
    "    INSERT INTO dbo.image_feature (image_feature_id, person_id, image_occurrence_id, image_feature_event_id,\n",
    "      image_feature_event_field_concept_id, image_feature_concept_id, image_feature_type_concept_id, anatomic_site_concept_id) \n",
    "    VALUES (%s,%s,%s,%s,%s,%s,%s,%s)\n",
    "'''\n",
    "\n",
    "# Define batch size\n",
    "batch_size = 20000\n",
    "batch = []\n",
    "\n",
    "# Iterate through the DataFrame\n",
    "for index, row in new_vol_long.iterrows():\n",
    "    # Append row data to the batch\n",
    "    batch.append((row['image_feature_id'], row['person_id'], row['image_occurrence_id'], row['measurement_id'], \n",
    "                  row['image_feature_event_field_concept_id'], row['vol_concept_id'], row['image_feature_type_concept_id'],row['concept_id']))\n",
    "\n",
    "    # Check if batch size is reached or if it's the last row\n",
    "    if len(batch) == batch_size or (index == len(new_vol_long) - 1):\n",
    "        # Execute the batch\n",
    "        cursor.executemany(sql, batch)\n",
    "        conn.commit()  # Commit after each batch\n",
    "        batch = []  # Clear the batch for the next set of rows"
   ]
  },
  {
   "cell_type": "code",
   "execution_count": null,
   "metadata": {},
   "outputs": [],
   "source": [
    "# Close the cursor and connection\n",
    "cursor.close()\n",
    "conn.close()"
   ]
  }
 ],
 "metadata": {
  "kernelspec": {
   "display_name": "Python 3",
   "language": "python",
   "name": "python3"
  },
  "language_info": {
   "codemirror_mode": {
    "name": "ipython",
    "version": 3
   },
   "file_extension": ".py",
   "mimetype": "text/x-python",
   "name": "python",
   "nbconvert_exporter": "python",
   "pygments_lexer": "ipython3",
   "version": "3.9.6"
  }
 },
 "nbformat": 4,
 "nbformat_minor": 2
}

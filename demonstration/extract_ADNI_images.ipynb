{
 "cells": [
  {
   "cell_type": "markdown",
   "metadata": {},
   "source": [
    "# Download ADNI images that are uploaded in Azure imaging database\n",
    "\n",
    "### Prerequisites\n",
    "* Locate your imaging files: local paths, cloud storage services (e.g., Microsoft Azure)"
   ]
  },
  {
   "cell_type": "code",
   "execution_count": null,
   "metadata": {},
   "outputs": [],
   "source": [
    "import requests\n",
    "import pandas as pd\n",
    "import pydicom\n",
    "from pathlib import Path\n",
    "from urllib3.filepost import encode_multipart_formdata, choose_boundary\n",
    "from azure.identity import DefaultAzureCredential"
   ]
  },
  {
   "cell_type": "code",
   "execution_count": null,
   "metadata": {},
   "outputs": [],
   "source": [
    "!pip install azure-cli"
   ]
  },
  {
   "cell_type": "code",
   "execution_count": null,
   "metadata": {},
   "outputs": [],
   "source": [
    "!az login"
   ]
  },
  {
   "cell_type": "code",
   "execution_count": null,
   "metadata": {},
   "outputs": [],
   "source": [
    "# Run the az command and capture its output\n",
    "captured_output = !az account get-access-token --resource https://dicom.healthcareapis.azure.com --query accessToken --output tsv\n",
    "\n",
    "# The output is a special IPython.utils.text.SList object which behaves like a list.\n",
    "# If the command outputs a single line (like an access token), it will be the first element.\n",
    "bearer_token = captured_output[2].strip()"
   ]
  },
  {
   "cell_type": "code",
   "execution_count": null,
   "metadata": {},
   "outputs": [],
   "source": [
    "# check connection\n",
    "base_dicomweb_url = 'https://imgextpoc-adnidicom.dicom.azurehealthcareapis.com/v2'\n",
    "\n",
    "headers = {\n",
    "    'Accept': \"application/json\",\n",
    "    'Authorization': 'Bearer ' + bearer_token\n",
    "    }\n",
    "dicomweb_study_query_url =  base_dicomweb_url + '/studies/'\n",
    "response = requests.request(\"GET\", dicomweb_study_query_url, data=\"\", headers=headers)\n",
    "response"
   ]
  },
  {
   "cell_type": "code",
   "execution_count": null,
   "metadata": {},
   "outputs": [],
   "source": [
    "# Extract all metadata from DICOM server\n",
    "# To avoid repetitive information, we filter extracting one instance metadata per series\n",
    "import requests\n",
    "import pandas as pd\n",
    "\n",
    "# Function to fetch metadata for the first instance in a given series\n",
    "def fetch_series_metadata(base_url, study_uid, series_uid, headers):\n",
    "    # Endpoint to fetch instances within the series\n",
    "    instances_url = f\"{base_url}/studies/{study_uid}/series/{series_uid}/instances\"\n",
    "    instances_response = requests.get(instances_url, headers=headers)\n",
    "    if instances_response.status_code != 200:\n",
    "        print(f\"Error fetching instances for series {series_uid}: {instances_response.status_code}\")\n",
    "        return {}\n",
    "\n",
    "    instances = instances_response.json()\n",
    "    if not instances:\n",
    "        print(f\"No instances found for series {series_uid}\")\n",
    "        return {}\n",
    "\n",
    "    # Fetch metadata for the first instance\n",
    "    instance_uid = instances[0]['00080018']['Value'][0]\n",
    "    instance_metadata_url = f\"{base_url}/studies/{study_uid}/series/{series_uid}/instances/{instance_uid}/metadata\"\n",
    "    instance_metadata_response = requests.get(instance_metadata_url, headers=headers)\n",
    "    if instance_metadata_response.status_code == 200:\n",
    "        return instance_metadata_response.json()\n",
    "    else:\n",
    "        print(f\"Error fetching metadata for instance {instance_uid}: {instance_metadata_response.status_code}\")\n",
    "        return {}\n",
    "\n",
    "# Function to extract all metadata\n",
    "def extract_all_metadata(base_url, headers):\n",
    "    all_metadata = []\n",
    "    limit = 200\n",
    "    offset = 0\n",
    "\n",
    "    while True:\n",
    "        # Fetch the list of studies with pagination\n",
    "        studies_url = f\"{base_url}/studies\"\n",
    "        studies_response = requests.get(studies_url, params={\"limit\": limit, \"offset\": offset}, headers=headers)\n",
    "        if studies_response.status_code == 204:\n",
    "            break\n",
    "        if studies_response.status_code != 200:\n",
    "            print(f\"Error fetching studies: {studies_response.status_code}\")\n",
    "            break\n",
    "        studies = studies_response.json()\n",
    "\n",
    "        # Loop through each study and fetch series within it\n",
    "        for study in studies:\n",
    "            study_uid = study['0020000D']['Value'][0]\n",
    "\n",
    "            # Endpoint for fetching series within a study; adjust as needed\n",
    "            series_url = f\"{base_url}/studies/{study_uid}/series\"\n",
    "            \n",
    "            # Fetch the list of series in the current study\n",
    "            series_response = requests.get(series_url, headers=headers)\n",
    "            if series_response.status_code == 200:\n",
    "                series_list = series_response.json()\n",
    "\n",
    "                # Extract metadata for each series and add to the list\n",
    "                for series in series_list:\n",
    "                    series_uid = series['0020000E']['Value'][0]  # Adjust based on actual response format\n",
    "                    series_metadata = fetch_series_metadata(base_url, study_uid, series_uid, headers)\n",
    "                    if series_metadata:\n",
    "                        metadata_record = {\"StudyUID\": study_uid, \"SeriesUID\": series_uid, \"Metadata\": series_metadata}\n",
    "                        all_metadata.append(metadata_record)\n",
    "\n",
    "        # Update offset for next batch of studies\n",
    "        offset += limit\n",
    "\n",
    "    # Convert the list of records to a DataFrame\n",
    "    return pd.DataFrame(all_metadata)"
   ]
  },
  {
   "cell_type": "code",
   "execution_count": null,
   "metadata": {},
   "outputs": [],
   "source": [
    "headers = {\n",
    "    'Authorization': 'Bearer ' + bearer_token,\n",
    "    'Accept': 'application/dicom+json'\n",
    "}\n",
    "base_dicomweb_url = 'https://imgextpoc-adnidicom.dicom.azurehealthcareapis.com/v2'\n",
    "\n",
    "metadata_df = extract_all_metadata(base_dicomweb_url, headers)\n",
    "metadata_df.shape"
   ]
  },
  {
   "cell_type": "code",
   "execution_count": null,
   "metadata": {},
   "outputs": [],
   "source": [
    "metadata_df['Metadata'].iloc[0]"
   ]
  },
  {
   "cell_type": "code",
   "execution_count": null,
   "metadata": {},
   "outputs": [],
   "source": [
    "metadata_df.to_pickle('./files/ADNI/all_metadata.pkl')"
   ]
  },
  {
   "cell_type": "code",
   "execution_count": null,
   "metadata": {},
   "outputs": [],
   "source": [
    "print(metadata_df.shape)\n",
    "metadata_df.head()"
   ]
  },
  {
   "cell_type": "code",
   "execution_count": null,
   "metadata": {},
   "outputs": [],
   "source": [
    "# Function to flatten the nested dictionary of metadata\n",
    "def flatten_metadata(row):\n",
    "    flat_metadata = []\n",
    "    for metadata_dict in row['Metadata']:\n",
    "        for tag, attributes in metadata_dict.items():\n",
    "            value = attributes.get('Value', None)\n",
    "            if isinstance(value, list):\n",
    "                value = ', '.join(str(v) for v in value)\n",
    "            flat_metadata.append({\n",
    "                'StudyUID': row['StudyUID'],\n",
    "                'SeriesUID': row['SeriesUID'],\n",
    "                'Tag': tag,\n",
    "                'vr': attributes.get('vr', None),\n",
    "                'Value': value\n",
    "            })\n",
    "    return flat_metadata\n",
    "\n",
    "# Flatten the metadata DataFrame\n",
    "flat_metadata_list = []\n",
    "for index, row in metadata_df.iterrows():\n",
    "    flat_metadata_list.extend(flatten_metadata(row))\n",
    "\n",
    "flat_metadata_df = pd.DataFrame(flat_metadata_list)\n",
    "flat_metadata_df.shape"
   ]
  },
  {
   "cell_type": "code",
   "execution_count": null,
   "metadata": {},
   "outputs": [],
   "source": [
    "flat_metadata_df.head()"
   ]
  },
  {
   "cell_type": "code",
   "execution_count": null,
   "metadata": {},
   "outputs": [],
   "source": [
    "flat_metadata_df.to_pickle('./files/ADNI/all_metadata_long.pkl')"
   ]
  }
 ],
 "metadata": {
  "kernelspec": {
   "display_name": "Python 3",
   "language": "python",
   "name": "python3"
  },
  "language_info": {
   "name": "python",
   "version": "3.9.6"
  }
 },
 "nbformat": 4,
 "nbformat_minor": 2
}
